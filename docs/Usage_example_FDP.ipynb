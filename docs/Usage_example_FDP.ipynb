{
 "cells": [
  {
   "cell_type": "markdown",
   "id": "8ef630c0-1c7b-4aea-b674-0772d5085aec",
   "metadata": {},
   "source": [
    "# Preparing and uploading data to Fair Data Point with SeMPyRO"
   ]
  },
  {
   "cell_type": "markdown",
   "id": "8bff32b5-6f5c-4c6b-953b-e8f9a8ddd681",
   "metadata": {},
   "source": [
    "**Prerequirements:** To execute this notebook in full one needs to have a running FAIR Data Point (FDP) instance with an active write access account.\n",
    "This notebook is written for the reference implementation, FAIR Data Point version 1.16 with default SHACL shapes.\n",
    "\n",
    "Let us consider uploading datasets from example_data.csv to FDP. \n",
    "FDP requires each dataset to be a part of a catalogue, therefore we need to create a catalogue. Let's see what we need to provide for that:"
   ]
  },
  {
   "cell_type": "code",
   "execution_count": 1,
   "id": "cff57267-1900-4b21-a8c5-fd5e16c61342",
   "metadata": {},
   "outputs": [
    {
     "name": "stdout",
     "output_type": "stream",
     "text": [
      "['description', 'title']\n"
     ]
    },
    {
     "name": "stderr",
     "output_type": "stream",
     "text": [
      "/Users/alexanderharms/.pyenv/versions/sempyro310/lib/python3.10/site-packages/pydantic/_internal/_generate_schema.py:502: UserWarning: [<class 'pydantic.networks.AnyHttpUrl'>] is not a Python type (it may be an instance of an object), Pydantic will allow any object with no validation since we cannot even enforce that the input is an instance of the given type. To get rid of this error wrap the type with `pydantic.SkipValidation`.\n",
      "  warn(\n"
     ]
    }
   ],
   "source": [
    "from sempyro.dcat import DCATCatalog\n",
    "\n",
    "catalog_fields = DCATCatalog.annotate_model()\n",
    "print(catalog_fields.mandatory_fields())"
   ]
  },
  {
   "cell_type": "markdown",
   "id": "b9c8b731-d5b8-43aa-9a93-6c4781f51393",
   "metadata": {},
   "source": [
    "Let's create a minimum catalogue with an example title and description. We also need a URI to use as a graph subject at serialization. Let's use `example.com` domain for now for this purpose:"
   ]
  },
  {
   "cell_type": "code",
   "execution_count": 2,
   "id": "af6617c9-edef-4b28-a3f5-c36cec1dfa33",
   "metadata": {},
   "outputs": [
    {
     "name": "stdout",
     "output_type": "stream",
     "text": [
      "@prefix dcat: <http://www.w3.org/ns/dcat#> .\n",
      "@prefix dcterms: <http://purl.org/dc/terms/> .\n",
      "\n",
      "<http://example.com/test_catalog_1> a dcat:Catalog ;\n",
      "    dcterms:description \"Catalog for test example datasets\"@en ;\n",
      "    dcterms:title \"Test catalog\"@en .\n",
      "\n",
      "\n"
     ]
    }
   ],
   "source": [
    "from sempyro import LiteralField\n",
    "from rdflib import URIRef\n",
    "\n",
    "catalog_subject = URIRef(\"http://example.com/test_catalog_1\")\n",
    "\n",
    "catalog = DCATCatalog(title=[LiteralField(value=\"Test catalog\", language=\"en\")],\n",
    "                      description=[LiteralField(value=\"Catalog for test example datasets\", language=\"en\")])\n",
    "catalog_record = catalog.to_graph(catalog_subject)\n",
    "print(catalog_record.serialize())"
   ]
  },
  {
   "cell_type": "code",
   "execution_count": 3,
   "id": "e294b23b-00b9-41a2-bf83-c6932f9ee9b8",
   "metadata": {},
   "outputs": [
    {
     "name": "stdin",
     "output_type": "stream",
     "text": [
      "Enter base link to FDP:  http://localhost:8081\n"
     ]
    }
   ],
   "source": [
    "fdp_base=input(\"Enter base link to FDP: \").rstrip(\"/'\")"
   ]
  },
  {
   "cell_type": "code",
   "execution_count": 4,
   "id": "645f50e3-63c0-460a-aece-64a112c30f64",
   "metadata": {},
   "outputs": [
    {
     "name": "stdin",
     "output_type": "stream",
     "text": [
      "Enter username:  albert.einstein@example.com\n"
     ]
    }
   ],
   "source": [
    "username=input(\"Enter username: \")"
   ]
  },
  {
   "cell_type": "code",
   "execution_count": 5,
   "id": "39cceb04-1120-432e-81f3-135424c7ac63",
   "metadata": {},
   "outputs": [
    {
     "name": "stdin",
     "output_type": "stream",
     "text": [
      " ········\n"
     ]
    }
   ],
   "source": [
    "from getpass import getpass\n",
    "password = getpass()"
   ]
  },
  {
   "cell_type": "markdown",
   "id": "194a7db8",
   "metadata": {},
   "source": [
    "Now connect to FDP with given username/password"
   ]
  },
  {
   "cell_type": "code",
   "execution_count": 6,
   "id": "350d7281",
   "metadata": {},
   "outputs": [],
   "source": [
    "from fairclient.fdpclient import FDPClient\n",
    "\n",
    "fdpclient = FDPClient(base_url=fdp_base, username=username, password=password)"
   ]
  },
  {
   "cell_type": "markdown",
   "id": "55873fe5-ba28-41e7-8140-1b9c5487cd1c",
   "metadata": {},
   "source": [
    "We can check the serialized output of the current Catalog record to see how it looks like."
   ]
  },
  {
   "cell_type": "code",
   "execution_count": 7,
   "id": "9f561ecd-3e2a-4498-8248-f13e6af00091",
   "metadata": {},
   "outputs": [
    {
     "name": "stdout",
     "output_type": "stream",
     "text": [
      "@prefix dcat: <http://www.w3.org/ns/dcat#> .\n",
      "@prefix dcterms: <http://purl.org/dc/terms/> .\n",
      "\n",
      "<http://example.com/test_catalog_1> a dcat:Catalog ;\n",
      "    dcterms:description \"Catalog for test example datasets\"@en ;\n",
      "    dcterms:title \"Test catalog\"@en .\n",
      "\n",
      "\n"
     ]
    }
   ],
   "source": [
    "catalog_record = catalog.to_graph(catalog_subject)\n",
    "print(catalog_record.serialize())"
   ]
  },
  {
   "cell_type": "markdown",
   "id": "265aa53e-0698-4e06-9788-95f864f7c9da",
   "metadata": {},
   "source": [
    "Another FDP requirement is a link pointing to a parent object, in the case of a catalogue it is FDP itself and it should be a property `is_part_of` in the range `DCTERMS.isPartOf`. This property is outside of DCAT-AP specification. There are two ways to add it: the first way is to add it directly to a graph (not forgetting to convert the base FDP link to URIRef):"
   ]
  },
  {
   "cell_type": "code",
   "execution_count": 8,
   "id": "c4861c8a-0c81-470d-a1b7-b65c56c5c410",
   "metadata": {},
   "outputs": [
    {
     "name": "stdout",
     "output_type": "stream",
     "text": [
      "@prefix dcat: <http://www.w3.org/ns/dcat#> .\n",
      "@prefix dcterms: <http://purl.org/dc/terms/> .\n",
      "\n",
      "<http://example.com/test_catalog_1> a dcat:Catalog ;\n",
      "    dcterms:description \"Catalog for test example datasets\"@en ;\n",
      "    dcterms:isPartOf <http://localhost:8081> ;\n",
      "    dcterms:title \"Test catalog\"@en .\n",
      "\n",
      "\n"
     ]
    }
   ],
   "source": [
    "from rdflib import DCTERMS\n",
    "\n",
    "catalog_record.add((catalog_subject, DCTERMS.isPartOf, URIRef(fdp_base)))\n",
    "print(catalog_record.serialize())"
   ]
  },
  {
   "cell_type": "markdown",
   "id": "57120302-f30d-4ab5-9172-385cf66bb7e2",
   "metadata": {},
   "source": [
    "The record above can be published to FDP. But if you want to create a reusable code it is better to create a child catalog class for FDP specifically and reflect the logic required for FDP."
   ]
  },
  {
   "cell_type": "markdown",
   "id": "252b4f01-b4d8-4830-a2d9-ccc2a85d9be6",
   "metadata": {},
   "source": [
    "In `DCATCatalog` `publisher` field is inherited from DCATResource, is optional and takes either AnyHttpUrl or Agent:\n",
    "```\n",
    "publisher: List[Union[AnyHttpUrl, Agent]] = Field(\n",
    "        default=None,\n",
    "        description=\"The entity responsible for making the resource available.\",\n",
    "        rdf_term=DCTERMS.publisher,\n",
    "        rdf_type=\"uri\"\n",
    "    )\n",
    "```\n",
    "\n",
    "❗Note, that a particular configuration concerning mandatory fields and field types may be defined differently in Shape Constraint Language (SCHACL) forms for an FDP instance. In this case you may need to change the example code below accordingly to prevent validation errors on uploading data. To review your instance's SCHACL forms, go to `<your FDP host>/schemas` and select the resource type of interest."
   ]
  },
  {
   "cell_type": "markdown",
   "id": "39504874",
   "metadata": {},
   "source": [
    "So far catalogue record was compliant with DCAT-AP notation. However, the default FDP shapes require us to add a `publisher` in the form of an `foaf:Agent`. We also add the previously mentioned `is_part_of` field. The `has_version` field must be a single Literal with the default shapes, instead of an IRI list as DCAT-AP specifies as allowed input."
   ]
  },
  {
   "cell_type": "code",
   "execution_count": 9,
   "id": "8e39cbff-73f6-4cf0-bba1-a49066822324",
   "metadata": {},
   "outputs": [
    {
     "name": "stderr",
     "output_type": "stream",
     "text": [
      "/Users/alexanderharms/.pyenv/versions/sempyro310/lib/python3.10/site-packages/pydantic/_internal/_generate_schema.py:502: UserWarning: [<class 'pydantic.networks.AnyHttpUrl'>] is not a Python type (it may be an instance of an object), Pydantic will allow any object with no validation since we cannot even enforce that the input is an instance of the given type. To get rid of this error wrap the type with `pydantic.SkipValidation`.\n",
      "  warn(\n"
     ]
    }
   ],
   "source": [
    "from sempyro.foaf import Agent\n",
    "from sempyro import LiteralField\n",
    "from sempyro.utils.validator_functions import force_literal_field\n",
    "\n",
    "from pydantic import AnyHttpUrl, Field, field_validator\n",
    "from typing import List, Union\n",
    "\n",
    "\n",
    "# Create subclass of catalog, and add/override the fields different from standard DCAT-AP\n",
    "class FDPCatalog(DCATCatalog):\n",
    "    publisher: List[Agent] = Field(\n",
    "        description=\"The entity responsible for making the resource available.\",\n",
    "        json_schema_extra={\n",
    "            \"rdf_term\": DCTERMS.publisher, \n",
    "            \"rdf_type\": \"uri\",\n",
    "        }\n",
    "    )\n",
    "    is_part_of: [AnyHttpUrl] = Field(description=\"Link to parent object\", \n",
    "                                     json_schema_extra={\n",
    "                                         \"rdf_term\": DCTERMS.isPartOf, \n",
    "                                         \"rdf_type\": \"uri\"\n",
    "                                     })\n",
    "    has_version: LiteralField = Field(\n",
    "        description=\"This resource has a more specific, versioned resource\",\n",
    "        json_schema_extra={\n",
    "            \"rdf_term\": DCTERMS.hasVersion,\n",
    "            \"rdf_type\": \"rdfs_literal\",\n",
    "        }\n",
    "    )\n",
    "\n",
    "    @field_validator(\"has_version\", mode=\"before\")\n",
    "    @classmethod\n",
    "    def convert_to_literal(cls, value: Union[str, LiteralField]) -> List[LiteralField]:\n",
    "        return force_literal_field(value)"
   ]
  },
  {
   "cell_type": "markdown",
   "id": "40bbc5a5",
   "metadata": {},
   "source": [
    "Now that we have a valid FDP catalog class, we can fill it with data."
   ]
  },
  {
   "cell_type": "code",
   "execution_count": 10,
   "id": "b915193d",
   "metadata": {},
   "outputs": [
    {
     "name": "stdout",
     "output_type": "stream",
     "text": [
      "@prefix dcat: <http://www.w3.org/ns/dcat#> .\n",
      "@prefix dcterms: <http://purl.org/dc/terms/> .\n",
      "@prefix foaf: <http://xmlns.com/foaf/0.1/> .\n",
      "\n",
      "<http://example.com/test_catalog_1> a dcat:Catalog ;\n",
      "    dcterms:description \"Catalog for Hogwarts students research projects\"@en ;\n",
      "    dcterms:hasVersion \"1.0\" ;\n",
      "    dcterms:isPartOf <http://localhost:8081> ;\n",
      "    dcterms:publisher [ a foaf:Agent ;\n",
      "            dcterms:identifier \"https://harrypotter.fandom.com/wiki/Hogwarts_School_of_Witchcraft_and_Wizardry\" ;\n",
      "            foaf:name \"Hogwarts school of Witchcraft and Wizardry\" ] ;\n",
      "    dcterms:title \"Hogwarts research catalog\"@en .\n",
      "\n",
      "\n"
     ]
    }
   ],
   "source": [
    "fdp_catalog = FDPCatalog(\n",
    "    title=[LiteralField(value=\"Hogwarts research catalog\", language=\"en\")],\n",
    "    description=[LiteralField(value=\"Catalog for Hogwarts students research projects\", language=\"en\")],\n",
    "    publisher=[\n",
    "        Agent(\n",
    "            name=[\"Hogwarts school of Witchcraft and Wizardry\"],\n",
    "            identifier=\"https://harrypotter.fandom.com/wiki/Hogwarts_School_of_Witchcraft_and_Wizardry\",\n",
    "        )\n",
    "    ],\n",
    "    is_part_of=[fdp_base],\n",
    "    has_version=\"1.0\",\n",
    ")\n",
    "\n",
    "fdp_catalog_record = fdp_catalog.to_graph(catalog_subject)\n",
    "print(fdp_catalog_record.serialize())"
   ]
  },
  {
   "cell_type": "code",
   "execution_count": 11,
   "id": "661d99a0-e531-4b3b-b0f1-1faaa32c14e5",
   "metadata": {},
   "outputs": [
    {
     "name": "stdout",
     "output_type": "stream",
     "text": [
      "http://localhost:8081/catalog/6ee890fa-6d47-4c6a-a4d6-a25f209d95ef\n"
     ]
    }
   ],
   "source": [
    "catalog_fdp_url = fdpclient.create_and_publish(resource_type=\"catalog\", metadata=fdp_catalog_record)\n",
    "print(catalog_fdp_url)"
   ]
  },
  {
   "cell_type": "markdown",
   "id": "9693bfda-34f0-4f1b-bc5f-b37a86b9bdb9",
   "metadata": {},
   "source": [
    "If everything goes well you should be able to see a new catalog entry in your FDP instance: ![newly created catalog](./imgs/fdp_catalog.png)"
   ]
  },
  {
   "cell_type": "markdown",
   "id": "b950ac5d-82fd-48bd-8fa8-68881a8dd75a",
   "metadata": {},
   "source": [
    "Now let's add datasets to the catalog.\n",
    "Data for example datasets will be fetched from `./example_data_fdp.csv` file. Let's look into the data:"
   ]
  },
  {
   "cell_type": "code",
   "execution_count": 12,
   "id": "6391c276-214d-4c36-bf22-62b136627aab",
   "metadata": {},
   "outputs": [
    {
     "name": "stdout",
     "output_type": "stream",
     "text": [
      "+------+-----------------------------+----------------------------------------------------------------------+------------------+------------------------------------------------------+-------------------------------------+---------------------+------------------------------------------------+-----------------------------------------------------------------------------------------------------------------------------------------------------------------------------------------------------+------------------------+------------+\n",
      "|   id | name                        | description                                                          | author_name      | author_id                                            | keywords                            | publisher_name      | publisher_id                                   | theme                                                                                                                                                                                               | contact_point          | issued     |\n",
      "|------+-----------------------------+----------------------------------------------------------------------+------------------+------------------------------------------------------+-------------------------------------+---------------------+------------------------------------------------+-----------------------------------------------------------------------------------------------------------------------------------------------------------------------------------------------------+------------------------+------------|\n",
      "|    1 | Gryffindor research project | Impact of muggle technical inventions on word's magic presense       | Hermione Granger | https://harrypotter.fandom.com/wiki/Hermione_Granger | magic, technic, muggles             | House of Gryffindor | https://harrypotter.fandom.com/wiki/Gryffindor | https://harrypotter.fandom.com/wiki/Muggle_Studies                                                                                                                                                  | hgranger@sendmeowl.uk  | 03-04-1992 |\n",
      "|    2 | Slytherin research project  | Comarative analysis of magic powers of muggle-born and blood wizards | Draco Malfoy     | https://harrypotter.fandom.com/wiki/Draco_Malfoy     | half-blood, muggle-born, pure-blood | House of Slytherin  | https://harrypotter.fandom.com/wiki/Slytherin  | https://harrypotter.fandom.com/wiki/Muggle_Studies, https://harrypotter.fandom.com/wiki/Muggle-born, https://harrypotter.fandom.com/wiki/Half-blood, https://harrypotter.fandom.com/wiki/Pure-blood | dmalfoy@sendmeowl.uk   | 25-05-1992 |\n",
      "|    3 | Ravenclaw research project  | Linguistic analysis of spells                                        | Luna Lovegood    | https://harrypotter.fandom.com/wiki/Luna_Lovegood    | linguastics spell                   | House of Ravenclaw  | https://harrypotter.fandom.com/wiki/Ravenclaw  | https://harrypotter.fandom.com/wiki/List_of_spells                                                                                                                                                  | llovegood@sendmeowl.uk | 26-05-1992 |\n",
      "|    4 | Hufflepuff research project | Domestics elfs reproduction rate changes in the last 100 years       | Dora Williams    | https://harrypotter.fandom.com/wiki/Dora_Williams    | domestic elf                        | House of Hufflepuff | https://harrypotter.fandom.com/wiki/Hufflepuff | https://harrypotter.fandom.com/wiki/House-elf                                                                                                                                                       | dwilliams@sendmeowl.uk | 27-05-1992 |\n",
      "+------+-----------------------------+----------------------------------------------------------------------+------------------+------------------------------------------------------+-------------------------------------+---------------------+------------------------------------------------+-----------------------------------------------------------------------------------------------------------------------------------------------------------------------------------------------------+------------------------+------------+\n"
     ]
    }
   ],
   "source": [
    "from tabulate import tabulate\n",
    "import pandas as pd\n",
    "\n",
    "df = pd.read_csv(\"./example_data_fdp.csv\", sep=\";\")\n",
    "print(tabulate(df, headers='keys', tablefmt='psql', showindex=False))"
   ]
  },
  {
   "cell_type": "markdown",
   "id": "e0a222b9-b0d3-42b3-a619-78c720025d39",
   "metadata": {},
   "source": [
    "Let's prepare source data: "
   ]
  },
  {
   "cell_type": "code",
   "execution_count": 13,
   "id": "9cf6315c-fce0-4f00-b430-586f167eebfd",
   "metadata": {},
   "outputs": [],
   "source": [
    "from sempyro.vcard import VCard\n",
    "\n",
    "df[\"keywords\"] = df[\"keywords\"].apply(lambda x: [y.strip() for y in x.split(\",\")])\n",
    "df[\"theme\"] = df[\"theme\"].apply(lambda x: x.split(\",\"))\n",
    "df[\"id\"] = df[\"id\"].apply(lambda x: [str(x)])\n",
    "df[\"contact_point\"] = df.apply(\n",
    "    lambda x: VCard(hasEmail=x[\"contact_point\"], full_name=[x[\"author_name\"]], hasUID=x[\"author_id\"]), axis=1\n",
    ")"
   ]
  },
  {
   "cell_type": "markdown",
   "id": "10e961c0-8f7e-4d05-82d5-9697aa7f7efa",
   "metadata": {},
   "source": [
    "This time let's prepare a class for an FDP-compartible dataset inheriting from sempyro DCATDataset.\n",
    "We need to extend the base class with `is_part_of` property similarly as we have done for the catalogue, make the Publisher an Agent and modify the `has_version` field.\n",
    "\n",
    "Another property to add is an identifier. It is not mandatory in the way that FDP does not require this property but useful in case you need to update a record in FDP. Each time a record is created in FDP a unique id is assigned to it. (For the catalogue record example above we have extracted it from the response header). The fact the identifier does not exist before the record is created in an FDP makes it quite hard to track. Hence, having an identifier on the data level is highly recommended to implement incremental updates."
   ]
  },
  {
   "cell_type": "code",
   "execution_count": 14,
   "id": "7fa68de4-0c1b-4c9c-a885-e77e66ad7011",
   "metadata": {},
   "outputs": [
    {
     "name": "stderr",
     "output_type": "stream",
     "text": [
      "/Users/alexanderharms/.pyenv/versions/sempyro310/lib/python3.10/site-packages/pydantic/_internal/_generate_schema.py:502: UserWarning: [<class 'pydantic.networks.AnyHttpUrl'>] is not a Python type (it may be an instance of an object), Pydantic will allow any object with no validation since we cannot even enforce that the input is an instance of the given type. To get rid of this error wrap the type with `pydantic.SkipValidation`.\n",
      "  warn(\n"
     ]
    }
   ],
   "source": [
    "from sempyro.dcat import DCATDataset\n",
    "\n",
    "class FDPDataset(DCATDataset):\n",
    "    publisher: List[Agent] = Field(description=\"The entity responsible for making the resource available.\",\n",
    "                                   json_schema_extra={\n",
    "                                        \"rdf_term\": DCTERMS.publisher,\n",
    "                                        \"rdf_type\": \"uri\"\n",
    "                                   })\n",
    "    is_part_of: [AnyHttpUrl] = Field(description=\"Link to parent object\",\n",
    "                                     json_schema_extra={\n",
    "                                         \"rdf_term\": DCTERMS.isPartOf,\n",
    "                                         \"rdf_type\": \"uri\"\n",
    "                                     }\n",
    "                                  )\n",
    "    identifier: List[Union[str, LiteralField]] = Field(\n",
    "        description=\"A unique identifier of the resource being described or catalogued.\",\n",
    "        json_schema_extra={\n",
    "            \"rdf_term\": DCTERMS.identifier,\n",
    "            \"rdf_type\": \"rdfs_literal\"\n",
    "        })\n",
    "    has_version: LiteralField = Field(description=\"This resource has a more specific, versioned resource\",\n",
    "                                      json_schema_extra={\n",
    "                                          \"rdf_term\": DCTERMS.hasVersion,\n",
    "                                          \"rdf_type\": \"rdfs_literal\"\n",
    "                                      })\n",
    "\n",
    "    @field_validator(\"has_version\", mode=\"before\")\n",
    "    @classmethod\n",
    "    def convert_to_literal(cls, value: Union[str, LiteralField]) -> List[LiteralField]:\n",
    "        return force_literal_field(value)"
   ]
  },
  {
   "cell_type": "markdown",
   "id": "64c2272d-2c49-4244-bcc1-1b85a2b6335d",
   "metadata": {},
   "source": [
    "Now let's create datasets filling in mandatory fields and some optional which persist in the data and publish them to FDP:"
   ]
  },
  {
   "cell_type": "code",
   "execution_count": 15,
   "id": "d60310bf-87d3-478c-b8cf-3b06374b2941",
   "metadata": {},
   "outputs": [
    {
     "name": "stdout",
     "output_type": "stream",
     "text": [
      "@prefix dcat: <http://www.w3.org/ns/dcat#> .\n",
      "@prefix dcterms: <http://purl.org/dc/terms/> .\n",
      "@prefix foaf: <http://xmlns.com/foaf/0.1/> .\n",
      "@prefix xsd: <http://www.w3.org/2001/XMLSchema#> .\n",
      "\n",
      "<http://example.com/dataset_1> a dcat:Dataset ;\n",
      "    dcterms:creator <https://harrypotter.fandom.com/wiki/Hermione_Granger> ;\n",
      "    dcterms:description \"Impact of muggle technical inventions on word's magic presense\" ;\n",
      "    dcterms:hasVersion \"0.1\" ;\n",
      "    dcterms:identifier \"1\" ;\n",
      "    dcterms:isPartOf <http://localhost:8081/catalog/6ee890fa-6d47-4c6a-a4d6-a25f209d95ef> ;\n",
      "    dcterms:issued \"1992-03-04T00:00:00\"^^xsd:dateTime ;\n",
      "    dcterms:publisher [ a foaf:Agent ;\n",
      "            dcterms:identifier \"https://harrypotter.fandom.com/wiki/Gryffindor\" ;\n",
      "            foaf:name \"House of Gryffindor\" ] ;\n",
      "    dcterms:title \"Gryffindor research project\" ;\n",
      "    dcat:keyword \"magic\",\n",
      "        \"muggles\",\n",
      "        \"technic\" ;\n",
      "    dcat:theme <https://harrypotter.fandom.com/wiki/Muggle_Studies> .\n",
      "\n",
      "\n"
     ]
    },
    {
     "name": "stderr",
     "output_type": "stream",
     "text": [
      "400 : @prefix rsx: <http://rdf4j.org/shacl-extensions#> .\n",
      "@prefix rdf4j: <http://rdf4j.org/schema/rdf4j#> .\n",
      "@prefix sh: <http://www.w3.org/ns/shacl#> .\n",
      "@prefix dcterms: <http://purl.org/dc/terms/> .\n",
      "@prefix dcat: <http://www.w3.org/ns/dcat#> .\n",
      "@prefix foaf: <http://xmlns.com/foaf/0.1/> .\n",
      "@prefix xsd: <http://www.w3.org/2001/XMLSchema#> .\n",
      "@prefix ldp: <http://www.w3.org/ns/ldp#> .\n",
      "\n",
      "[] a sh:ValidationReport;\n",
      "  sh:conforms false;\n",
      "  rdf4j:truncated false;\n",
      "  sh:result [ a sh:ValidationResult;\n",
      "      sh:focusNode <http://localhost:8081/dataset/26767ac6-8886-40c6-9c38-d8e51b091c23>;\n",
      "      rsx:shapesGraph rdf4j:SHACLShapeGraph;\n",
      "      sh:resultPath dcat:contactPoint;\n",
      "      sh:sourceConstraintComponent sh:MinCountConstraintComponent;\n",
      "      sh:resultSeverity sh:Violation;\n",
      "      sh:sourceShape [ a sh:PropertyShape;\n",
      "          sh:path dcat:contactPoint;\n",
      "          sh:minCount 1\n",
      "        ]\n",
      "    ], [ a sh:ValidationResult;\n",
      "      sh:focusNode <http://localhost:8081/dataset/26767ac6-8886-40c6-9c38-d8e51b091c23>;\n",
      "      rsx:shapesGraph rdf4j:SHACLShapeGraph;\n",
      "      sh:value <https://harrypotter.fandom.com/wiki/Hermione_Granger>;\n",
      "      sh:resultPath dcterms:creator;\n",
      "      sh:sourceConstraintComponent sh:NodeConstraintComponent;\n",
      "      sh:resultSeverity sh:Violation;\n",
      "      sh:sourceShape [ a sh:PropertyShape;\n",
      "          sh:path dcterms:creator;\n",
      "          sh:node <http://coreRule-healthri.nl#AgentShape>\n",
      "        ]\n",
      "    ], [ a sh:ValidationResult;\n",
      "      sh:focusNode <http://localhost:8081/dataset/26767ac6-8886-40c6-9c38-d8e51b091c23>;\n",
      "      rsx:shapesGraph rdf4j:SHACLShapeGraph;\n",
      "      sh:resultPath dcterms:license;\n",
      "      sh:sourceConstraintComponent sh:MinCountConstraintComponent;\n",
      "      sh:resultSeverity sh:Violation;\n",
      "      sh:sourceShape [ a sh:PropertyShape;\n",
      "          sh:path dcterms:license;\n",
      "          sh:minCount 1\n",
      "        ]\n",
      "    ], [ a sh:ValidationResult;\n",
      "      sh:focusNode <http://localhost:8081/dataset/26767ac6-8886-40c6-9c38-d8e51b091c23>;\n",
      "      rsx:shapesGraph rdf4j:SHACLShapeGraph;\n",
      "      sh:resultPath dcterms:modified;\n",
      "      sh:sourceConstraintComponent sh:MinCountConstraintComponent;\n",
      "      sh:resultSeverity sh:Violation;\n",
      "      sh:sourceShape [ a sh:PropertyShape;\n",
      "          sh:path dcterms:modified;\n",
      "          sh:minCount 1\n",
      "        ]\n",
      "    ] .\n",
      "\n",
      "<http://coreRule-healthri.nl#AgentShape> a sh:NodeShape;\n",
      "  sh:property [ a sh:PropertyShape;\n",
      "      sh:path foaf:name;\n",
      "      sh:minCount 1;\n",
      "      sh:maxCount 1;\n",
      "      sh:nodeKind sh:Literal\n",
      "    ], [ a sh:PropertyShape;\n",
      "      sh:path dcterms:identifier;\n",
      "      sh:minCount 1;\n",
      "      sh:maxCount 1;\n",
      "      sh:nodeKind sh:Literal\n",
      "    ] .\n",
      "Traceback (most recent call last):\n",
      "  File \"/Users/alexanderharms/.pyenv/versions/sempyro310/lib/python3.10/site-packages/fairclient/basicclient.py\", line 61, in _call_method\n",
      "    response.raise_for_status()\n",
      "  File \"/Users/alexanderharms/.pyenv/versions/sempyro310/lib/python3.10/site-packages/requests/models.py\", line 1024, in raise_for_status\n",
      "    raise HTTPError(http_error_msg, response=self)\n",
      "requests.exceptions.HTTPError: 400 Client Error:  for url: http://localhost:8081/dataset\n"
     ]
    },
    {
     "ename": "HTTPError",
     "evalue": "400 Client Error:  for url: http://localhost:8081/dataset",
     "output_type": "error",
     "traceback": [
      "\u001b[0;31m---------------------------------------------------------------------------\u001b[0m",
      "\u001b[0;31mHTTPError\u001b[0m                                 Traceback (most recent call last)",
      "Cell \u001b[0;32mIn[15], line 18\u001b[0m\n\u001b[1;32m     16\u001b[0m dataset_graph \u001b[38;5;241m=\u001b[39m dataset\u001b[38;5;241m.\u001b[39mto_graph(dataset_subject)\n\u001b[1;32m     17\u001b[0m \u001b[38;5;28mprint\u001b[39m(dataset_graph\u001b[38;5;241m.\u001b[39mserialize())\n\u001b[0;32m---> 18\u001b[0m dataset_fdp_id \u001b[38;5;241m=\u001b[39m \u001b[43mfdpclient\u001b[49m\u001b[38;5;241;43m.\u001b[39;49m\u001b[43mcreate_and_publish\u001b[49m\u001b[43m(\u001b[49m\u001b[43mresource_type\u001b[49m\u001b[38;5;241;43m=\u001b[39;49m\u001b[38;5;124;43m\"\u001b[39;49m\u001b[38;5;124;43mdataset\u001b[39;49m\u001b[38;5;124;43m\"\u001b[39;49m\u001b[43m,\u001b[49m\u001b[43m \u001b[49m\u001b[43mmetadata\u001b[49m\u001b[38;5;241;43m=\u001b[39;49m\u001b[43mdataset_graph\u001b[49m\u001b[43m)\u001b[49m\n",
      "File \u001b[0;32m~/.pyenv/versions/sempyro310/lib/python3.10/site-packages/fairclient/fdpclient.py:166\u001b[0m, in \u001b[0;36mFDPClient.create_and_publish\u001b[0;34m(self, resource_type, metadata)\u001b[0m\n\u001b[1;32m    151\u001b[0m \u001b[38;5;28;01mdef\u001b[39;00m\u001b[38;5;250m \u001b[39m\u001b[38;5;21mcreate_and_publish\u001b[39m(\u001b[38;5;28mself\u001b[39m, resource_type: \u001b[38;5;28mstr\u001b[39m, metadata: Graph) \u001b[38;5;241m-\u001b[39m\u001b[38;5;241m>\u001b[39m URIRef:\n\u001b[1;32m    152\u001b[0m \u001b[38;5;250m    \u001b[39m\u001b[38;5;124;03m\"\"\"Creates and publishes a record in the FDP\u001b[39;00m\n\u001b[1;32m    153\u001b[0m \n\u001b[1;32m    154\u001b[0m \u001b[38;5;124;03m    Parameters\u001b[39;00m\n\u001b[0;32m   (...)\u001b[0m\n\u001b[1;32m    164\u001b[0m \u001b[38;5;124;03m        URI of (subject of) published dataset\u001b[39;00m\n\u001b[1;32m    165\u001b[0m \u001b[38;5;124;03m    \"\"\"\u001b[39;00m\n\u001b[0;32m--> 166\u001b[0m     post_response \u001b[38;5;241m=\u001b[39m \u001b[38;5;28;43mself\u001b[39;49m\u001b[38;5;241;43m.\u001b[39;49m\u001b[43mpost_serialized\u001b[49m\u001b[43m(\u001b[49m\u001b[43mresource_type\u001b[49m\u001b[38;5;241;43m=\u001b[39;49m\u001b[43mresource_type\u001b[49m\u001b[43m,\u001b[49m\u001b[43m \u001b[49m\u001b[43mmetadata\u001b[49m\u001b[38;5;241;43m=\u001b[39;49m\u001b[43mmetadata\u001b[49m\u001b[43m)\u001b[49m\n\u001b[1;32m    168\u001b[0m     \u001b[38;5;66;03m# FDP will return a 201 status code with the new identifier of the published record\u001b[39;00m\n\u001b[1;32m    169\u001b[0m     fdp_subject \u001b[38;5;241m=\u001b[39m URIRef(post_response\u001b[38;5;241m.\u001b[39mheaders[\u001b[38;5;124m\"\u001b[39m\u001b[38;5;124mLocation\u001b[39m\u001b[38;5;124m\"\u001b[39m])\n",
      "File \u001b[0;32m~/.pyenv/versions/sempyro310/lib/python3.10/site-packages/fairclient/fdpclient.py:111\u001b[0m, in \u001b[0;36mFDPClient.post_serialized\u001b[0;34m(self, resource_type, metadata)\u001b[0m\n\u001b[1;32m    109\u001b[0m path \u001b[38;5;241m=\u001b[39m \u001b[38;5;124mf\u001b[39m\u001b[38;5;124m\"\u001b[39m\u001b[38;5;132;01m{\u001b[39;00m\u001b[38;5;28mself\u001b[39m\u001b[38;5;241m.\u001b[39mbase_url\u001b[38;5;132;01m}\u001b[39;00m\u001b[38;5;124m/\u001b[39m\u001b[38;5;132;01m{\u001b[39;00mresource_type\u001b[38;5;132;01m}\u001b[39;00m\u001b[38;5;124m\"\u001b[39m\n\u001b[1;32m    110\u001b[0m logger\u001b[38;5;241m.\u001b[39mdebug(\u001b[38;5;124m\"\u001b[39m\u001b[38;5;124mPosting metadata to \u001b[39m\u001b[38;5;132;01m%s\u001b[39;00m\u001b[38;5;124m\"\u001b[39m, path)\n\u001b[0;32m--> 111\u001b[0m \u001b[38;5;28;01mreturn\u001b[39;00m \u001b[38;5;28;43mself\u001b[39;49m\u001b[38;5;241;43m.\u001b[39;49m\u001b[43mpost\u001b[49m\u001b[43m(\u001b[49m\u001b[43mpath\u001b[49m\u001b[38;5;241;43m=\u001b[39;49m\u001b[43mpath\u001b[49m\u001b[43m,\u001b[49m\u001b[43m \u001b[49m\u001b[43mdata\u001b[49m\u001b[38;5;241;43m=\u001b[39;49m\u001b[43mmetadata\u001b[49m\u001b[38;5;241;43m.\u001b[39;49m\u001b[43mserialize\u001b[49m\u001b[43m(\u001b[49m\u001b[38;5;28;43mformat\u001b[39;49m\u001b[38;5;241;43m=\u001b[39;49m\u001b[38;5;124;43m\"\u001b[39;49m\u001b[38;5;124;43mturtle\u001b[39;49m\u001b[38;5;124;43m\"\u001b[39;49m\u001b[43m)\u001b[49m\u001b[43m)\u001b[49m\n",
      "File \u001b[0;32m~/.pyenv/versions/sempyro310/lib/python3.10/site-packages/fairclient/basicclient.py:72\u001b[0m, in \u001b[0;36mBasicAPIClient.post\u001b[0;34m(self, path, params, data, **kwargs)\u001b[0m\n\u001b[1;32m     71\u001b[0m \u001b[38;5;28;01mdef\u001b[39;00m\u001b[38;5;250m \u001b[39m\u001b[38;5;21mpost\u001b[39m(\u001b[38;5;28mself\u001b[39m, path: \u001b[38;5;28mstr\u001b[39m, params: \u001b[38;5;28mdict\u001b[39m \u001b[38;5;241m|\u001b[39m \u001b[38;5;28;01mNone\u001b[39;00m \u001b[38;5;241m=\u001b[39m \u001b[38;5;28;01mNone\u001b[39;00m, data\u001b[38;5;241m=\u001b[39m\u001b[38;5;28;01mNone\u001b[39;00m, \u001b[38;5;241m*\u001b[39m\u001b[38;5;241m*\u001b[39mkwargs) \u001b[38;5;241m-\u001b[39m\u001b[38;5;241m>\u001b[39m Response:\n\u001b[0;32m---> 72\u001b[0m     \u001b[38;5;28;01mreturn\u001b[39;00m \u001b[38;5;28;43mself\u001b[39;49m\u001b[38;5;241;43m.\u001b[39;49m\u001b[43m_call_method\u001b[49m\u001b[43m(\u001b[49m\u001b[38;5;124;43m\"\u001b[39;49m\u001b[38;5;124;43mPOST\u001b[39;49m\u001b[38;5;124;43m\"\u001b[39;49m\u001b[43m,\u001b[49m\u001b[43m \u001b[49m\u001b[43mpath\u001b[49m\u001b[43m,\u001b[49m\u001b[43m \u001b[49m\u001b[43mparams\u001b[49m\u001b[38;5;241;43m=\u001b[39;49m\u001b[43mparams\u001b[49m\u001b[43m,\u001b[49m\u001b[43m \u001b[49m\u001b[43mdata\u001b[49m\u001b[38;5;241;43m=\u001b[39;49m\u001b[43mdata\u001b[49m\u001b[43m,\u001b[49m\u001b[43m \u001b[49m\u001b[38;5;241;43m*\u001b[39;49m\u001b[38;5;241;43m*\u001b[39;49m\u001b[43mkwargs\u001b[49m\u001b[43m)\u001b[49m\n",
      "File \u001b[0;32m~/.pyenv/versions/sempyro310/lib/python3.10/site-packages/fairclient/basicclient.py:61\u001b[0m, in \u001b[0;36mBasicAPIClient._call_method\u001b[0;34m(self, method, path, params, data, json)\u001b[0m\n\u001b[1;32m     50\u001b[0m response \u001b[38;5;241m=\u001b[39m \u001b[38;5;28mself\u001b[39m\u001b[38;5;241m.\u001b[39msession\u001b[38;5;241m.\u001b[39mrequest(\n\u001b[1;32m     51\u001b[0m     method,\n\u001b[1;32m     52\u001b[0m     url,\n\u001b[0;32m   (...)\u001b[0m\n\u001b[1;32m     57\u001b[0m     timeout\u001b[38;5;241m=\u001b[39m\u001b[38;5;28mself\u001b[39m\u001b[38;5;241m.\u001b[39mtimeout,\n\u001b[1;32m     58\u001b[0m )\n\u001b[1;32m     60\u001b[0m \u001b[38;5;28;01mtry\u001b[39;00m:\n\u001b[0;32m---> 61\u001b[0m     \u001b[43mresponse\u001b[49m\u001b[38;5;241;43m.\u001b[39;49m\u001b[43mraise_for_status\u001b[49m\u001b[43m(\u001b[49m\u001b[43m)\u001b[49m\n\u001b[1;32m     62\u001b[0m \u001b[38;5;28;01mexcept\u001b[39;00m HTTPError \u001b[38;5;28;01mas\u001b[39;00m e:\n\u001b[1;32m     63\u001b[0m     logger\u001b[38;5;241m.\u001b[39mexception(\u001b[38;5;124m\"\u001b[39m\u001b[38;5;132;01m%d\u001b[39;00m\u001b[38;5;124m \u001b[39m\u001b[38;5;132;01m%s\u001b[39;00m\u001b[38;5;124m: \u001b[39m\u001b[38;5;132;01m%s\u001b[39;00m\u001b[38;5;124m\"\u001b[39m, e\u001b[38;5;241m.\u001b[39mresponse\u001b[38;5;241m.\u001b[39mstatus_code, e\u001b[38;5;241m.\u001b[39mresponse\u001b[38;5;241m.\u001b[39mreason, e\u001b[38;5;241m.\u001b[39mresponse\u001b[38;5;241m.\u001b[39mtext)\n",
      "File \u001b[0;32m~/.pyenv/versions/sempyro310/lib/python3.10/site-packages/requests/models.py:1024\u001b[0m, in \u001b[0;36mResponse.raise_for_status\u001b[0;34m(self)\u001b[0m\n\u001b[1;32m   1019\u001b[0m     http_error_msg \u001b[38;5;241m=\u001b[39m (\n\u001b[1;32m   1020\u001b[0m         \u001b[38;5;124mf\u001b[39m\u001b[38;5;124m\"\u001b[39m\u001b[38;5;132;01m{\u001b[39;00m\u001b[38;5;28mself\u001b[39m\u001b[38;5;241m.\u001b[39mstatus_code\u001b[38;5;132;01m}\u001b[39;00m\u001b[38;5;124m Server Error: \u001b[39m\u001b[38;5;132;01m{\u001b[39;00mreason\u001b[38;5;132;01m}\u001b[39;00m\u001b[38;5;124m for url: \u001b[39m\u001b[38;5;132;01m{\u001b[39;00m\u001b[38;5;28mself\u001b[39m\u001b[38;5;241m.\u001b[39murl\u001b[38;5;132;01m}\u001b[39;00m\u001b[38;5;124m\"\u001b[39m\n\u001b[1;32m   1021\u001b[0m     )\n\u001b[1;32m   1023\u001b[0m \u001b[38;5;28;01mif\u001b[39;00m http_error_msg:\n\u001b[0;32m-> 1024\u001b[0m     \u001b[38;5;28;01mraise\u001b[39;00m HTTPError(http_error_msg, response\u001b[38;5;241m=\u001b[39m\u001b[38;5;28mself\u001b[39m)\n",
      "\u001b[0;31mHTTPError\u001b[0m: 400 Client Error:  for url: http://localhost:8081/dataset"
     ]
    }
   ],
   "source": [
    "datasets = df.to_dict('records')\n",
    "for record in datasets:\n",
    "    dataset = FDPDataset(\n",
    "        title=[LiteralField(value=record[\"name\"])],\n",
    "        description=[LiteralField(value=record[\"description\"])],\n",
    "        identifier=record[\"id\"],\n",
    "        is_part_of=[f\"{catalog_fdp_url}\"],\n",
    "        creator=[record[\"author_id\"]],\n",
    "        release_date=record[\"issued\"],\n",
    "        publisher=[Agent(name=[record[\"publisher_name\"]], identifier=record[\"publisher_id\"])],\n",
    "        theme=record[\"theme\"],\n",
    "        keyword=[LiteralField(value=x) for x in record[\"keywords\"]],\n",
    "        has_version=\"0.1\",\n",
    "    )\n",
    "    dataset_subject = URIRef(f\"http://example.com/dataset_{record['id'][0]}\")\n",
    "    dataset_graph = dataset.to_graph(dataset_subject)\n",
    "    print(dataset_graph.serialize())\n",
    "    dataset_fdp_id = fdpclient.create_and_publish(resource_type=\"dataset\", metadata=dataset_graph)\n"
   ]
  },
  {
   "cell_type": "markdown",
   "id": "dae279ab-47e8-413e-b0ff-89cd88223168",
   "metadata": {},
   "source": [
    "The catalogue we have created earlier is now updated with 4 datasets ![catalog](./imgs/ds_in_catalog.png)\n",
    "\n",
    "and datasets themselves are available: ![datasets](./imgs/datasets_fdp.png)"
   ]
  }
 ],
 "metadata": {
  "kernelspec": {
   "display_name": "sempyro310",
   "language": "python",
   "name": "sempyro310"
  },
  "language_info": {
   "codemirror_mode": {
    "name": "ipython",
    "version": 3
   },
   "file_extension": ".py",
   "mimetype": "text/x-python",
   "name": "python",
   "nbconvert_exporter": "python",
   "pygments_lexer": "ipython3",
   "version": "3.10.16"
  }
 },
 "nbformat": 4,
 "nbformat_minor": 5
}
