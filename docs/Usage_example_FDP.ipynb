{
 "cells": [
  {
   "cell_type": "markdown",
   "id": "8ef630c0-1c7b-4aea-b674-0772d5085aec",
   "metadata": {},
   "source": [
    "# Preparing and uploading data to Fair Data Point with SeMPyRO"
   ]
  },
  {
   "cell_type": "markdown",
   "id": "8bff32b5-6f5c-4c6b-953b-e8f9a8ddd681",
   "metadata": {},
   "source": [
    "**Prerequirements:** To execute this notebook in full one needs to have a running FAIR Data Point (FDP) instance with an active write access account.\n",
    "\n",
    "Let us consider uploading datasets from example_data.csv to FDP. \n",
    "FDP requires each dataset to be a part of a catalogue, therefore we need to create a catalogue. Let's see what we need to provide for that:"
   ]
  },
  {
   "cell_type": "code",
   "execution_count": 98,
   "id": "cff57267-1900-4b21-a8c5-fd5e16c61342",
   "metadata": {},
   "outputs": [
    {
     "name": "stdout",
     "output_type": "stream",
     "text": [
      "['description', 'title']\n"
     ]
    }
   ],
   "source": [
    "from sempyro.dcat import DCATCatalog\n",
    "\n",
    "catalog_fields = DCATCatalog.annotate_model()\n",
    "print(catalog_fields.mandatory_fields())"
   ]
  },
  {
   "cell_type": "code",
   "execution_count": 150,
   "id": "c2c32fe0",
   "metadata": {},
   "outputs": [
    {
     "name": "stdout",
     "output_type": "stream",
     "text": [
      "vXqd77H\n"
     ]
    }
   ],
   "source": [
    "# function to generate a unique code \n",
    "import secrets\n",
    "import string\n",
    "\n",
    "def generate_unique_code(length=5):\n",
    "    characters = string.ascii_letters +string.digits\n",
    "    unique_code = ''.join(secrets.choice(characters) for _ in range(length))\n",
    "    return unique_code\n",
    "\n",
    "#Test\n",
    "print(generate_unique_code(7))"
   ]
  },
  {
   "cell_type": "markdown",
   "id": "b9c8b731-d5b8-43aa-9a93-6c4781f51393",
   "metadata": {},
   "source": [
    "Let's create a minimum catalogue with an example title and description. We also need a URI to use as a graph subject at serialization. Let's use `example.com` domain for now for this purpose:"
   ]
  },
  {
   "cell_type": "code",
   "execution_count": 151,
   "id": "af6617c9-edef-4b28-a3f5-c36cec1dfa33",
   "metadata": {},
   "outputs": [
    {
     "name": "stdout",
     "output_type": "stream",
     "text": [
      "@prefix dcat: <http://www.w3.org/ns/dcat#> .\n",
      "@prefix dcterms: <http://purl.org/dc/terms/> .\n",
      "\n",
      "<http://example.com/test_catalog_zsZDj> a dcat:Catalog ;\n",
      "    dcterms:description \"Catalog for test example datasets\"@en ;\n",
      "    dcterms:title \"Test catalog\"@en .\n",
      "\n",
      "\n"
     ]
    }
   ],
   "source": [
    "from sempyro import LiteralField\n",
    "from rdflib import URIRef\n",
    "\n",
    "catalog_subject = URIRef(\"http://example.com/test_catalog_\"+generate_unique_code(5))\n",
    "\n",
    "catalog = DCATCatalog(title=[LiteralField(value=\"Test catalog\", language=\"en\")],\n",
    "                      description=[LiteralField(value=\"Catalog for test example datasets\", language=\"en\")])\n",
    "catalog_record = catalog.to_graph(catalog_subject)\n",
    "print(catalog_record.serialize())"
   ]
  },
  {
   "cell_type": "markdown",
   "id": "515557de-b2e3-4fb3-a25f-f92b291f1b08",
   "metadata": {},
   "source": [
    "Now we need to define an FDP API client which can log into an FDP, get a token and perform basic calls.\n"
   ]
  },
  {
   "cell_type": "markdown",
   "id": "0f415bd0-a9a6-496e-a011-38d5d8cbeb4e",
   "metadata": {},
   "source": [
    "Publishing a record in FDP consists of two steps: creating a record and publishing. These two actions are performed as API calls with different content types, so we need to implement methods for changing content type, creating a record and publishing the record. After that, the client looks like this:"
   ]
  },
  {
   "cell_type": "code",
   "execution_count": 152,
   "id": "5968c450-08d2-4e9a-aabf-581dc69a46a1",
   "metadata": {},
   "outputs": [],
   "source": [
    "import logging\n",
    "import requests\n",
    "from typing import Dict, Union\n",
    "from requests import Response\n",
    "from urllib.parse import urljoin\n",
    "import urllib3\n",
    "import sys\n",
    "from rdflib import Graph\n",
    "\n",
    "logger = logging.getLogger(__name__)\n",
    "\n",
    "class FDPEndPoints:\n",
    "    meta = \"meta\"\n",
    "    state = f\"{meta}/state\"\n",
    "    members = \"members\"\n",
    "    expanded = \"expanded\"\n",
    "\n",
    "class FDPClientException(Exception):\n",
    "    pass\n",
    "\n",
    "class FDPClient:\n",
    "\n",
    "    def __init__(self, base_url: str, username: str, password: str, verify_ssl:bool = True):\n",
    "        self.base_url = base_url\n",
    "        self.username = username\n",
    "        self.password = password\n",
    "        self.token = self.login_fdp()\n",
    "        self.headers = self.get_headers()\n",
    "        self.session = requests.session()\n",
    "        self.session.headers.update(self.headers)\n",
    "        self.ssl_verification = verify_ssl\n",
    "        if not verify_ssl:\n",
    "            import urllib3\n",
    "            urllib3.disable_warnings(urllib3.exceptions.InsecureRequestWarning)\n",
    "        \n",
    "\n",
    "    def login_fdp(self) -> str:\n",
    "        try:\n",
    "            token_response = requests.post(\n",
    "                f\"{self.base_url}/tokens\",\n",
    "                json={\"email\": self.username, \"password\": self.password},\n",
    "            #    verify=self.ssl_verification\n",
    "            )\n",
    "            token_response.raise_for_status()\n",
    "            response = token_response.json()\n",
    "            return response[\"token\"]\n",
    "        except requests.exceptions.RequestException as e:\n",
    "            logger.error(f\"Login failed: {str(e)}\")\n",
    "            raise FDPClientException(f\"Login failed: {str(e)}\")\n",
    "\n",
    "    def get_headers(self):\n",
    "        return {\"Authorization\": f\"Bearer {self.token}\", \"Content-Type\": \"text/turtle\"}\n",
    "\n",
    "\n",
    "    def _call_method(self, method, path, params: Dict = None, data=None):\n",
    "        if method.upper() not in [\"GET\", \"POST\", \"PUT\", \"DELETE\"]:\n",
    "            raise ValueError(f\"Unsupported method {method}\")\n",
    "        url = urljoin(self.base_url, path)\n",
    "        response = None\n",
    "        try:\n",
    "            response = self.session.request(\n",
    "                method, url, params=params, data=data, verify=self.ssl_verification\n",
    "            )\n",
    "            response.raise_for_status()\n",
    "            return response\n",
    "        except requests.exceptions.RequestException as e:\n",
    "            logger.error(f\"Request failed:{str(e)}\")\n",
    "            if hasattr(e,'response') and e.response is not None:\n",
    "                logger.error(e.response.text)\n",
    "            raise FDPClientException(f\"Request failed:{str(e)}\")\n",
    "        #except requests.exceptions.HTTPError as e:\n",
    "        #    logger.error(e)\n",
    "        #    if response is not None:\n",
    "        #        logger.error(response.text)\n",
    "        #    sys.exit(1)\n",
    "        #except (requests.exceptions.ConnectionError, requests.exceptions.Timeout, requests.exceptions.RequestException) as e:\n",
    "        #    logger.error(e)\n",
    "        #    sys.exit(1)\n",
    "\n",
    "    def get(self, path: str, params: Dict = None) -> Response:\n",
    "        return self._call_method(\"GET\", path, params=params)\n",
    "\n",
    "    def post(self, path: str, params: Dict = None, data=None) -> Response:\n",
    "        return self._call_method(\"POST\", path, params=params, data=data)\n",
    "\n",
    "    def update(self, path: str, params: Dict = None, data=None) -> Response:\n",
    "        return self._call_method(\"PUT\", path, params=params, data=data)\n",
    "\n",
    "    def delete(self, path: str, params: Dict = None, data=None) -> Response:\n",
    "        return self._call_method(\"DELETE\", path, params=params, data=data)\n",
    "\n",
    "    def _update_session_headers(self):\n",
    "        self.session.headers.update(self.headers)\n",
    "\n",
    "    def _change_content_type(self, content_type):\n",
    "        self.headers[\"Content-Type\"] = content_type\n",
    "        self._update_session_headers()\n",
    "\n",
    "    def post_serialised(self, resource_type: str, metadata: Graph) -> Union[requests.Response, None]:\n",
    "        self._change_content_type(\"text/turtle\")\n",
    "        path = f\"{self.base_url}/{resource_type}\"\n",
    "        response = self.post(path=path, data=metadata.serialize())\n",
    "        return response\n",
    "\n",
    "    def publish_record(self, record_url):\n",
    "        self._change_content_type(\"application/json\")\n",
    "        path = f\"{record_url}/{FDPEndPoints.state}\"\n",
    "        data = '{\"current\": \"PUBLISHED\"}'\n",
    "        self.update(path=path, data=data)\n",
    "\n",
    "    def create_and_publish(self, resource_type: str, metadata: Graph) -> URIRef:\n",
    "        try:\n",
    "            post_response = self.post_serialised(resource_type=resource_type, metadata=metadata)\n",
    "            fdp_subject = URIRef(post_response.headers[\"Location\"])\n",
    "            self.publish_record(fdp_subject)\n",
    "            return fdp_subject\n",
    "        except(KeyError, FDPClientException) as e:\n",
    "            logger.error(f\"Failed to create and publish record: {str(e)}\")\n",
    "            raise FDPClientException(f\"Failed to create and publish record:{str(e)}\")\n"
   ]
  },
  {
   "cell_type": "code",
   "execution_count": 153,
   "id": "e294b23b-00b9-41a2-bf83-c6932f9ee9b8",
   "metadata": {},
   "outputs": [],
   "source": [
    "fdp_base=input(\"Enter base link to FDP: \")"
   ]
  },
  {
   "cell_type": "code",
   "execution_count": 154,
   "id": "645f50e3-63c0-460a-aece-64a112c30f64",
   "metadata": {},
   "outputs": [],
   "source": [
    "username=input(\"Enter username: \")"
   ]
  },
  {
   "cell_type": "code",
   "execution_count": 155,
   "id": "39cceb04-1120-432e-81f3-135424c7ac63",
   "metadata": {},
   "outputs": [],
   "source": [
    "from getpass import getpass\n",
    "password = getpass()"
   ]
  },
  {
   "cell_type": "markdown",
   "id": "55873fe5-ba28-41e7-8140-1b9c5487cd1c",
   "metadata": {},
   "source": [
    "So far catalogue record was compliant with DCAT AP notation but FDP requires to add a `publisher` in a form of an IRI:"
   ]
  },
  {
   "cell_type": "code",
   "execution_count": 156,
   "id": "9f561ecd-3e2a-4498-8248-f13e6af00091",
   "metadata": {},
   "outputs": [
    {
     "name": "stdout",
     "output_type": "stream",
     "text": [
      "@prefix dcat: <http://www.w3.org/ns/dcat#> .\n",
      "@prefix dcterms: <http://purl.org/dc/terms/> .\n",
      "\n",
      "<http://example.com/test_catalog_zsZDj> a dcat:Catalog ;\n",
      "    dcterms:description \"Catalog for test example datasets\"@en ;\n",
      "    dcterms:publisher <https://harrypotter.fandom.com/wiki/Hogwarts_School_of_Witchcraft_and_Wizardry1> ;\n",
      "    dcterms:title \"Test catalog\"@en .\n",
      "\n",
      "\n"
     ]
    }
   ],
   "source": [
    "catalog.publisher = [\"https://harrypotter.fandom.com/wiki/Hogwarts_School_of_Witchcraft_and_Wizardry1\"]\n",
    "catalog_record = catalog.to_graph(catalog_subject)\n",
    "print(catalog_record.serialize())"
   ]
  },
  {
   "cell_type": "markdown",
   "id": "265aa53e-0698-4e06-9788-95f864f7c9da",
   "metadata": {},
   "source": [
    "Another FDP requirement is a link pointing to a parent object, in the case of a catalogue it is FDP itself and it should be a property `is_part_of` in the range `DCTERMS.isPartOf`. This property is outside of DCAT AP specification. There are two ways to add it: the first way is to add it directly to a graph (not forgetting to convert the base FDP link to URIRef):"
   ]
  },
  {
   "cell_type": "code",
   "execution_count": 157,
   "id": "c4861c8a-0c81-470d-a1b7-b65c56c5c410",
   "metadata": {},
   "outputs": [
    {
     "name": "stdout",
     "output_type": "stream",
     "text": [
      "@prefix dcat: <http://www.w3.org/ns/dcat#> .\n",
      "@prefix dcterms: <http://purl.org/dc/terms/> .\n",
      "\n",
      "<http://example.com/test_catalog_zsZDj> a dcat:Catalog ;\n",
      "    dcterms:description \"Catalog for test example datasets\"@en ;\n",
      "    dcterms:isPartOf <https://fdp-test.healthdata.nl> ;\n",
      "    dcterms:publisher <https://harrypotter.fandom.com/wiki/Hogwarts_School_of_Witchcraft_and_Wizardry1> ;\n",
      "    dcterms:title \"Test catalog\"@en .\n",
      "\n",
      "\n"
     ]
    }
   ],
   "source": [
    "from rdflib import DCTERMS\n",
    "\n",
    "catalog_record.add((catalog_subject, DCTERMS.isPartOf, URIRef(fdp_base)))\n",
    "print(catalog_record.serialize())"
   ]
  },
  {
   "cell_type": "markdown",
   "id": "57120302-f30d-4ab5-9172-385cf66bb7e2",
   "metadata": {},
   "source": [
    "The record above can be published to FDP. But if you want to create a reusable code it is better to create a child catalog class for FDP specifically and reflect the logic required for FDP."
   ]
  },
  {
   "cell_type": "markdown",
   "id": "252b4f01-b4d8-4830-a2d9-ccc2a85d9be6",
   "metadata": {},
   "source": [
    "In `DCATCatalog` `publisher` field is inherited from DCATResource, is optional and takes either AnyHttpUrl or Agent:\n",
    "```\n",
    "publisher: List[Union[AnyHttpUrl, Agent]] = Field(\n",
    "        default=None,\n",
    "        description=\"The entity responsible for making the resource available.\",\n",
    "        rdf_term=DCTERMS.publisher,\n",
    "        rdf_type=\"uri\"\n",
    "    )\n",
    "```\n",
    "\n",
    "❗Note, that a particular configuration concerning mandatory fields and field types may be defined differently in Shape Constraint Language (SCHACL) forms for an FDP instance. In this case you may need to change the example code below accordingly to prevent validation errors on uploading data. To review your instance's SCHACL forms, go to `<your FDP host>/schemas` and select the resource type of interest.\n",
    "\n",
    "Let us create a child FDP-compatible class for a catalogue with a mandatory `publisher` field taking links only:"
   ]
  },
  {
   "cell_type": "code",
   "execution_count": 159,
   "id": "8e39cbff-73f6-4cf0-bba1-a49066822324",
   "metadata": {},
   "outputs": [
    {
     "name": "stdout",
     "output_type": "stream",
     "text": [
      "@prefix dcat: <http://www.w3.org/ns/dcat#> .\n",
      "@prefix dcterms: <http://purl.org/dc/terms/> .\n",
      "@prefix foaf: <http://xmlns.com/foaf/0.1/> .\n",
      "\n",
      "<http://example.com/test_catalog_zsZDj> a dcat:Catalog ;\n",
      "    dcterms:description \"Catalog for test example datasets\" ;\n",
      "    dcterms:identifier \"http://example.com/catalog/_hqLOA\" ;\n",
      "    dcterms:isPartOf <https://fdp-test.healthdata.nl> ;\n",
      "    dcterms:publisher <https://harrypotter.fandom.com/wiki/Hogwarts_School_of_Witchcraft_and_Wizardry1> ;\n",
      "    dcterms:title \"Test catalog SeNiX\" .\n",
      "\n",
      "<https://harrypotter.fandom.com/wiki/Hogwarts_School_of_Witchcraft_and_Wizardry1> dcterms:identifier \"https://harrypotter.fandom.com/wiki/Hogwarts_School_of_Witchcraft_and_Wizardry1_RyytN\" ;\n",
      "    foaf:name \"AMC2\" .\n",
      "\n",
      "\n"
     ]
    }
   ],
   "source": [
    "from pydantic import AnyHttpUrl, Field\n",
    "from typing import List\n",
    "from rdflib.namespace import FOAF,DCTERMS\n",
    "from rdflib import Literal\n",
    "import random\n",
    "\n",
    "#Create a graph to define publisher as a RDF resource\n",
    "graph = Graph()\n",
    "\n",
    "# Define the URI for the publisher\n",
    "publisher_uri = URIRef(\"https://harrypotter.fandom.com/wiki/Hogwarts_School_of_Witchcraft_and_Wizardry1\")\n",
    "\n",
    "# Add required properties for the publisher to conform to the AgentShape\n",
    "graph.add((publisher_uri, FOAF.name, Literal(\"AMC2\")))  # foaf:name\n",
    "graph.add((publisher_uri, DCTERMS.identifier, Literal(publisher_uri+\"_\"+generate_unique_code(5))))  # dcterms:identifier\n",
    "\n",
    "\n",
    "# Create a class instance with the same data\n",
    "fdp_catalog = DCATCatalog(\n",
    "    title=[LiteralField(value=\"Test catalog \"+generate_unique_code(5))],\n",
    "    description=[LiteralField(value=\"Catalog for test example datasets\")],\n",
    "    publisher=[publisher_uri],\n",
    "    identifier=[LiteralField(value=\"http://example.com/catalog/_\"+generate_unique_code(5))],\n",
    "                        )\n",
    "\n",
    "fdp_catalog_record = fdp_catalog.to_graph(catalog_subject)\n",
    "\n",
    "fdp_catalog_record.add((catalog_subject,DCTERMS.isPartOf,URIRef(fdp_base)))\n",
    "fdp_catalog_record +=graph\n",
    "\n",
    "print(fdp_catalog_record.serialize())"
   ]
  },
  {
   "cell_type": "code",
   "execution_count": 160,
   "id": "661d99a0-e531-4b3b-b0f1-1faaa32c14e5",
   "metadata": {},
   "outputs": [
    {
     "name": "stdout",
     "output_type": "stream",
     "text": [
      "https://fdp-test.healthdata.nl/catalog/3a926a4b-f780-4257-8898-214a737cbe39\n"
     ]
    }
   ],
   "source": [
    "try:\n",
    "    fdp_client = FDPClient(base_url=fdp_base, username=username, password=password, verify_ssl=True)\n",
    "\n",
    "    catalog_fdp_id = fdp_client.create_and_publish(resource_type=\"catalog\", metadata=fdp_catalog_record)\n",
    "    print(catalog_fdp_id)\n",
    "except FDPClientException as e:\n",
    "    print(f\"An error occured : {str(e)}\")"
   ]
  },
  {
   "cell_type": "markdown",
   "id": "9693bfda-34f0-4f1b-bc5f-b37a86b9bdb9",
   "metadata": {},
   "source": [
    "If everything goes well you should be able to see a new catalog entry in your FDP instance: ![newly created catalog](./imgs/fdp_catalog.png)"
   ]
  },
  {
   "cell_type": "markdown",
   "id": "b950ac5d-82fd-48bd-8fa8-68881a8dd75a",
   "metadata": {},
   "source": [
    "Now let's add datasets to the catalog.\n",
    "Data for example datasets will be fetched from `./example_data_fdp.csv` file. Let's look into the data:"
   ]
  },
  {
   "cell_type": "code",
   "execution_count": 165,
   "id": "6391c276-214d-4c36-bf22-62b136627aab",
   "metadata": {},
   "outputs": [
    {
     "name": "stdout",
     "output_type": "stream",
     "text": [
      "+------+-----------------------------+----------------------------------------------------------------------+------------------+------------------------------------------------------+-------------------------------------+---------------------+------------------------------------------------+-----------------------------------------------------------------------------------------------------------------------------------------------------------------------------------------------------+------------------------+------------+\n",
      "|   id | name                        | description                                                          | author_name      | author_id                                            | keywords                            | publisher_name      | publisher_id                                   | theme                                                                                                                                                                                               | contact_point          | issued     |\n",
      "|------+-----------------------------+----------------------------------------------------------------------+------------------+------------------------------------------------------+-------------------------------------+---------------------+------------------------------------------------+-----------------------------------------------------------------------------------------------------------------------------------------------------------------------------------------------------+------------------------+------------|\n",
      "|    1 | Gryffindor research project | Impact of muggle technical inventions on word's magic presense       | Hermione Granger | https://harrypotter.fandom.com/wiki/Hermione_Granger | magic, technic, muggles             | House of Gryffindor | https://harrypotter.fandom.com/wiki/Gryffindor | https://harrypotter.fandom.com/wiki/Muggle_Studies                                                                                                                                                  | hgranger@sendmeowl.uk  | 03-04-1992 |\n",
      "|    2 | Slytherin research project  | Comarative analysis of magic powers of muggle-born and blood wizards | Draco Malfoy     | https://harrypotter.fandom.com/wiki/Draco_Malfoy     | half-blood, muggle-born, pure-blood | House of Slytherin  | https://harrypotter.fandom.com/wiki/Slytherin  | https://harrypotter.fandom.com/wiki/Muggle_Studies, https://harrypotter.fandom.com/wiki/Muggle-born, https://harrypotter.fandom.com/wiki/Half-blood, https://harrypotter.fandom.com/wiki/Pure-blood | dmalfoy@sendmeowl.uk   | 25-05-1992 |\n",
      "|    3 | Ravenclaw research project  | Linguistic analysis of spells                                        | Luna Lovegood    | https://harrypotter.fandom.com/wiki/Luna_Lovegood    | linguastics spell                   | House of Ravenclaw  | https://harrypotter.fandom.com/wiki/Ravenclaw  | https://harrypotter.fandom.com/wiki/List_of_spells                                                                                                                                                  | llovegood@sendmeowl.uk | 26-05-1992 |\n",
      "|    4 | Hufflepuff research project | Domestics elfs reproduction rate changes in the last 100 years       | Dora Williams    | https://harrypotter.fandom.com/wiki/Dora_Williams    | domestic elf                        | House of Hufflepuff | https://harrypotter.fandom.com/wiki/Hufflepuff | https://harrypotter.fandom.com/wiki/House-elf                                                                                                                                                       | dwilliams@sendmeowl.uk | 27-05-1992 |\n",
      "+------+-----------------------------+----------------------------------------------------------------------+------------------+------------------------------------------------------+-------------------------------------+---------------------+------------------------------------------------+-----------------------------------------------------------------------------------------------------------------------------------------------------------------------------------------------------+------------------------+------------+\n"
     ]
    }
   ],
   "source": [
    "from tabulate import tabulate\n",
    "import pandas as pd\n",
    "\n",
    "df = pd.read_csv(\"./example_data_fdp.csv\", sep=\";\")\n",
    "print(tabulate(df, headers='keys', tablefmt='psql', showindex=False))"
   ]
  },
  {
   "cell_type": "markdown",
   "id": "f3a09d95",
   "metadata": {},
   "source": []
  },
  {
   "cell_type": "markdown",
   "id": "e0a222b9-b0d3-42b3-a619-78c720025d39",
   "metadata": {},
   "source": [
    "Let's prepare source data: "
   ]
  },
  {
   "cell_type": "code",
   "execution_count": 166,
   "id": "9cf6315c-fce0-4f00-b430-586f167eebfd",
   "metadata": {},
   "outputs": [
    {
     "name": "stdout",
     "output_type": "stream",
     "text": [
      "+-------+-----------------------------+----------------------------------------------------------------------+------------------+------------------------------------------------------+-----------------------------------------------+---------------------+------------------------------------------------+------------------------------------------------------------------------------------------------------------------------------------------------------------------------------------------------------------------+--------------------------------------------------------------------------------------------------------------------------------------------------+------------+\n",
      "| id    | name                        | description                                                          | author_name      | author_id                                            | keywords                                      | publisher_name      | publisher_id                                   | theme                                                                                                                                                                                                            | contact_point                                                                                                                                    | issued     |\n",
      "|-------+-----------------------------+----------------------------------------------------------------------+------------------+------------------------------------------------------+-----------------------------------------------+---------------------+------------------------------------------------+------------------------------------------------------------------------------------------------------------------------------------------------------------------------------------------------------------------+--------------------------------------------------------------------------------------------------------------------------------------------------+------------|\n",
      "| ['1'] | Gryffindor research project | Impact of muggle technical inventions on word's magic presense       | Hermione Granger | https://harrypotter.fandom.com/wiki/Hermione_Granger | ['magic', ' technic', ' muggles']             | House of Gryffindor | https://harrypotter.fandom.com/wiki/Gryffindor | ['https://harrypotter.fandom.com/wiki/Muggle_Studies']                                                                                                                                                           | hasEmail=[Url('mailto:hgranger@sendmeowl.uk')] full_name=['Hermione Granger'] hasUID=Url('https://harrypotter.fandom.com/wiki/Hermione_Granger') | 03-04-1992 |\n",
      "| ['2'] | Slytherin research project  | Comarative analysis of magic powers of muggle-born and blood wizards | Draco Malfoy     | https://harrypotter.fandom.com/wiki/Draco_Malfoy     | ['half-blood', ' muggle-born', ' pure-blood'] | House of Slytherin  | https://harrypotter.fandom.com/wiki/Slytherin  | ['https://harrypotter.fandom.com/wiki/Muggle_Studies', ' https://harrypotter.fandom.com/wiki/Muggle-born', ' https://harrypotter.fandom.com/wiki/Half-blood', ' https://harrypotter.fandom.com/wiki/Pure-blood'] | hasEmail=[Url('mailto:dmalfoy@sendmeowl.uk')] full_name=['Draco Malfoy'] hasUID=Url('https://harrypotter.fandom.com/wiki/Draco_Malfoy')          | 25-05-1992 |\n",
      "| ['3'] | Ravenclaw research project  | Linguistic analysis of spells                                        | Luna Lovegood    | https://harrypotter.fandom.com/wiki/Luna_Lovegood    | ['linguastics spell']                         | House of Ravenclaw  | https://harrypotter.fandom.com/wiki/Ravenclaw  | ['https://harrypotter.fandom.com/wiki/List_of_spells']                                                                                                                                                           | hasEmail=[Url('mailto:llovegood@sendmeowl.uk')] full_name=['Luna Lovegood'] hasUID=Url('https://harrypotter.fandom.com/wiki/Luna_Lovegood')      | 26-05-1992 |\n",
      "| ['4'] | Hufflepuff research project | Domestics elfs reproduction rate changes in the last 100 years       | Dora Williams    | https://harrypotter.fandom.com/wiki/Dora_Williams    | ['domestic elf']                              | House of Hufflepuff | https://harrypotter.fandom.com/wiki/Hufflepuff | ['https://harrypotter.fandom.com/wiki/House-elf']                                                                                                                                                                | hasEmail=[Url('mailto:dwilliams@sendmeowl.uk')] full_name=['Dora Williams'] hasUID=Url('https://harrypotter.fandom.com/wiki/Dora_Williams')      | 27-05-1992 |\n",
      "+-------+-----------------------------+----------------------------------------------------------------------+------------------+------------------------------------------------------+-----------------------------------------------+---------------------+------------------------------------------------+------------------------------------------------------------------------------------------------------------------------------------------------------------------------------------------------------------------+--------------------------------------------------------------------------------------------------------------------------------------------------+------------+\n"
     ]
    }
   ],
   "source": [
    "from sempyro.vcard import VCard\n",
    "\n",
    "df[\"keywords\"] = df[\"keywords\"].apply(lambda x: x.split(\",\"))\n",
    "df[\"theme\"] = df[\"theme\"].apply(lambda x: x.split(\",\"))\n",
    "df[\"id\"] = df[\"id\"].apply(lambda x: [str(x)])\n",
    "df[\"contact_point\"] = df.apply(lambda x: VCard(hasEmail=x[\"contact_point\"], full_name=[x[\"author_name\"]], \n",
    "                                               hasUID=x[\"author_id\"]), axis=1)\n",
    "print(tabulate(df, headers='keys', tablefmt='psql', showindex=False))"
   ]
  },
  {
   "cell_type": "markdown",
   "id": "10e961c0-8f7e-4d05-82d5-9697aa7f7efa",
   "metadata": {},
   "source": [
    "This time let's prepare a class for an FDP-compartible dataset inheriting from sempyro DCATDataset.\n",
    "We need to extend the base class with `is_part_of` property similarly as we have done for the catalogue.\n",
    "\n",
    "Another property to add is an identifier. It is not mandatory in the way that FDP does not require this property but useful in case you need to update a record in FDP. Each time a record is created in FDP a unique id is assigned to it. (For the catalogue record example above we have extracted it from the response header). The fact the identifier does not exist before the record is created in an FDP makes it quite hard to track. Hence, having an identifier on the data level is highly recommended to implement incremental updates.\n",
    "\n"
   ]
  },
  {
   "cell_type": "code",
   "execution_count": 111,
   "id": "7fa68de4-0c1b-4c9c-a885-e77e66ad7011",
   "metadata": {},
   "outputs": [
    {
     "name": "stderr",
     "output_type": "stream",
     "text": [
      "C:\\Users\\Delicious\\AppData\\Roaming\\Python\\Python312\\site-packages\\pydantic\\_internal\\_generate_schema.py:355: UserWarning: [typing.Annotated[pydantic_core._pydantic_core.Url, UrlConstraints(max_length=None, allowed_schemes=['http', 'https'], host_required=None, default_host=None, default_port=None, default_path=None)]] is not a Python type (it may be an instance of an object), Pydantic will allow any object with no validation since we cannot even enforce that the input is an instance of the given type. To get rid of this error wrap the type with `pydantic.SkipValidation`.\n",
      "  warn(\n"
     ]
    }
   ],
   "source": [
    "from sempyro.dcat import DCATDataset\n",
    "\n",
    "class FDPDataset(DCATDataset):\n",
    "    is_part_of: [AnyHttpUrl] = Field(description=\"Link to parent object\",\n",
    "                                   rdf_term=DCTERMS.isPartOf,\n",
    "                                   rdf_type=\"uri\"\n",
    "                                  )\n",
    "    identifier: List[Union[str, LiteralField]] = Field(\n",
    "        description=\"A unique identifier of the resource being described or catalogued.\",\n",
    "        rdf_term=DCTERMS.identifier,\n",
    "        rdf_type=\"rdfs_literal\")"
   ]
  },
  {
   "cell_type": "markdown",
   "id": "64c2272d-2c49-4244-bcc1-1b85a2b6335d",
   "metadata": {},
   "source": [
    "Now let's create datasets filling in mandatory fields and some optional which persist in the data and publish them to FDP:"
   ]
  },
  {
   "cell_type": "code",
   "execution_count": 163,
   "id": "d60310bf-87d3-478c-b8cf-3b06374b2941",
   "metadata": {},
   "outputs": [
    {
     "name": "stdout",
     "output_type": "stream",
     "text": [
      "https://fdp-test.healthdata.nl/dataset/24881583-4755-41b6-8fe3-7a99e65272b6\n",
      "https://fdp-test.healthdata.nl/dataset/89794e76-d310-4913-b75f-de44b9fe3cae\n",
      "https://fdp-test.healthdata.nl/dataset/8972ce1a-755c-4e61-8236-64186148f9e0\n",
      "https://fdp-test.healthdata.nl/dataset/7782ffd5-5bea-4ecd-bad7-dd71f7dfe307\n"
     ]
    }
   ],
   "source": [
    "from rdflib import DCTERMS, RDF,DCAT,XSD\n",
    "from urllib.parse import quote\n",
    "from datetime import datetime\n",
    "\n",
    "def create_agent(graph : Graph, uri :str, name :str, identifier:str):\n",
    "    agent = URIRef(uri)\n",
    "    #graph.add((agent, RDF.type, FOAF.Agent))\n",
    "    graph.add((agent, FOAF.name, Literal(name)))\n",
    "    graph.add((agent, DCTERMS.identifier, Literal(identifier)))\n",
    "    \n",
    "    return graph\n",
    "\n",
    "def create_dataset_graph(record:Dict)->Graph:\n",
    "    g = Graph()\n",
    "\n",
    "    dataset_uri =  URIRef(f\"http://example.com/dataset_{record['id'][0]}\")\n",
    "    \n",
    "    issued_date = datetime.strptime(record[\"issued\"],'%d-%m-%Y').isoformat()\n",
    "    g.add((dataset_uri,RDF.type,DCAT.Dataset))\n",
    "    g.add((dataset_uri,DCTERMS.title,Literal(record[\"name\"])))\n",
    "    g.add((dataset_uri,DCTERMS.description, Literal(record[\"description\"])))\n",
    "    g.add((dataset_uri,DCTERMS.identifier,Literal(record[\"id\"][0])))\n",
    "    g.add((dataset_uri,DCTERMS.isPartOf,URIRef(catalog_fdp_id)))\n",
    "    g.add((dataset_uri,DCTERMS.issued,Literal(issued_date,datatype=XSD.dateTime)))\n",
    "    g.add((dataset_uri,DCTERMS.creator,URIRef(record[\"author_id\"])))\n",
    "    g.add((URIRef(record[\"author_id\"]), FOAF.name, Literal(record[\"author_name\"])))\n",
    "    g.add((URIRef(record[\"author_id\"]), DCTERMS.identifier, Literal(record[\"author_id\"])))\n",
    "    g.add((dataset_uri,DCTERMS.publisher,URIRef(record[\"publisher_id\"])))\n",
    "    g.add((URIRef(record[\"publisher_id\"]), FOAF.name, Literal(record[\"publisher_name\"])))\n",
    "    g.add((URIRef(record[\"publisher_id\"]), DCTERMS.identifier, Literal(record[\"publisher_id\"])))\n",
    "\n",
    "    for keyword in record[\"keywords\"]:\n",
    "        g.add((dataset_uri,DCAT.keyword,Literal(keyword.strip())))\n",
    "\n",
    "    for theme in record[\"theme\"]:\n",
    "        g.add((dataset_uri,DCAT.theme,URIRef(quote(theme.strip(),safe=\":/\"))))\n",
    "\n",
    "    return g \n",
    "\n",
    "\n",
    "datasets = df.to_dict('records')\n",
    "for record in datasets:\n",
    "    #Create a graph to define publisher as a RDF resource\n",
    "    dataset_graph = create_dataset_graph(record)\n",
    "    #print(dataset_graph.serialize())#format='turtle'))\n",
    "    try:\n",
    "        data_fdp_id = fdp_client.create_and_publish(resource_type=\"dataset\", metadata=dataset_graph)\n",
    "        print(data_fdp_id)\n",
    "    except FDPClientException as e:\n",
    "        print(f\"An error occured : {str(e)}\")\n"
   ]
  },
  {
   "cell_type": "markdown",
   "id": "dae279ab-47e8-413e-b0ff-89cd88223168",
   "metadata": {},
   "source": [
    "The catalogue we have created earlier is now updated with 4 datasets ![catalog](./imgs/ds_in_catalog.png)\n",
    "\n",
    "and datasets themselves are available: ![datasets](./imgs/datasets_fdp.png)"
   ]
  }
 ],
 "metadata": {
  "kernelspec": {
   "display_name": "Python 3 (ipykernel)",
   "language": "python",
   "name": "python3"
  },
  "language_info": {
   "codemirror_mode": {
    "name": "ipython",
    "version": 3
   },
   "file_extension": ".py",
   "mimetype": "text/x-python",
   "name": "python",
   "nbconvert_exporter": "python",
   "pygments_lexer": "ipython3",
   "version": "3.12.3"
  }
 },
 "nbformat": 4,
 "nbformat_minor": 5
}
