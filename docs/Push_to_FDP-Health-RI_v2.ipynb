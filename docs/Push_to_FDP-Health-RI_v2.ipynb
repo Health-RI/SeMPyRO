{
 "cells": [
  {
   "cell_type": "markdown",
   "id": "8ef630c0-1c7b-4aea-b674-0772d5085aec",
   "metadata": {},
   "source": [
    "# Pushing metadata to an FDP"
   ]
  },
  {
   "cell_type": "markdown",
   "id": "f922cecf-a9dd-46e6-a219-91e0b7d8371a",
   "metadata": {},
   "source": [
    "This notebook can be used to manually push DCAT concepts according to the Health-RI Core v2 to a FAIR Data Point. \n",
    "If you are looking for interactive explanations, please see the 'Documentation' notebooks.\n",
    "\n",
    "**Prerequisites:** To execute this notebook in full one needs to have a running FAIR Data Point (FDP) instance with an active write access account.\n",
    "This notebook is written for the reference implementation, FAIR Data Point version 1.16 with the [Health-RI Core v2 SHACL shapes](https://github.com/Health-RI/health-ri-metadata/tree/develop/Formalisation(shacl)/Core/FairDataPointShape)."
   ]
  },
  {
   "cell_type": "markdown",
   "id": "9053b016-75be-4515-8916-3cd86e79a3e0",
   "metadata": {},
   "source": [
    "## Imports and setup"
   ]
  },
  {
   "cell_type": "code",
   "execution_count": null,
   "id": "edfd609d-c0b5-4d78-bb72-2174ec31e3f8",
   "metadata": {},
   "outputs": [],
   "source": [
    "from typing import List, Union\n",
    "from pprint import pprint\n",
    "\n",
    "from rdflib import URIRef, DCTERMS\n",
    "from pydantic import AnyHttpUrl, Field, field_validator\n",
    "\n",
    "from getpass import getpass\n",
    "import dateutil.parser as parser\n",
    "\n",
    "from fairclient.fdpclient import FDPClient\n",
    "\n",
    "from sempyro import LiteralField\n",
    "from sempyro.hri_dcat import (\n",
    "    HRICatalog, \n",
    "    HRIDataset, \n",
    "    HRIVCard, \n",
    "    HRIAgent, \n",
    "    HRIDistribution,\n",
    "    HRIDataService,\n",
    "    HRIDatasetSeries\n",
    ")\n",
    "from sempyro.utils.validator_functions import force_literal_field"
   ]
  },
  {
   "cell_type": "code",
   "execution_count": null,
   "id": "a4692e28-a25d-4f4c-99be-720674380022",
   "metadata": {},
   "outputs": [],
   "source": [
    "fdp_base=input(\"Enter base link to FDP: \").rstrip(\"/\")\n",
    "username=input(\"Enter username: \")\n",
    "password = getpass(prompt=\"Password: \")\n",
    "\n",
    "fdp_client = FDPClient(base_url=fdp_base, username=username, password=password)"
   ]
  },
  {
   "cell_type": "code",
   "execution_count": null,
   "id": "c2cb640b-f68d-4d25-991d-b09cf219fe8b",
   "metadata": {},
   "outputs": [],
   "source": [
    "class FDPCatalog(HRICatalog):\n",
    "    is_part_of: [AnyHttpUrl] = Field(\n",
    "        description=\"Link to parent object\", \n",
    "        json_schema_extra={\n",
    "            \"rdf_term\": DCTERMS.isPartOf, \n",
    "            \"rdf_type\": \"uri\"\n",
    "        })\n",
    "\n",
    "class FDPDatasetSeries(HRIDatasetSeries):\n",
    "    is_part_of: [AnyHttpUrl] = Field(\n",
    "        description=\"Link to parent object\", \n",
    "        json_schema_extra={\n",
    "            \"rdf_term\": DCTERMS.isPartOf, \n",
    "            \"rdf_type\": \"uri\"\n",
    "        })\n",
    "\n"
   ]
  },
  {
   "cell_type": "markdown",
   "id": "9b484768-a3ec-430f-9195-ab1ccaf774c0",
   "metadata": {},
   "source": [
    "## Catalog"
   ]
  },
  {
   "cell_type": "code",
   "execution_count": null,
   "id": "d6386d80-2162-4d75-8633-38891dbda728",
   "metadata": {},
   "outputs": [],
   "source": [
    "# Create a class instance with the same data\n",
    "fdp_catalog = FDPCatalog(\n",
    "    title=[\n",
    "        LiteralField(value=\"Inflammatory Bowel Disease catalogue\", language=\"en\")\n",
    "    ],\n",
    "    description=[\n",
    "        LiteralField(value=\"This catalogue describes the core metadata of AUMC Inflammatory Bowel Disease datasets\", language=\"en\")\n",
    "    ],\n",
    "    contact_point=HRIVCard(\n",
    "        hasEmail=\"mailto:data-access-committee@xumc.nl\",\n",
    "        formatted_name=\"Data Access Committee of the x UMC\"),\n",
    "    publisher=HRIAgent(\n",
    "        name=[LiteralField(value=\"Academic Medical Center\")],\n",
    "        identifier=[\"https://ror.org/05wg1m734\"],\n",
    "        homepage=URIRef(\"https://www.xumc.nl\"),\n",
    "        mbox=\"mailto:data-access-committee@xumc.nl\"\n",
    "    ),\n",
    "    is_part_of=[URIRef(fdp_base)],\n",
    "    dataset=[])\n",
    "\n",
    "fdp_catalog_record = fdp_catalog.to_graph(URIRef(f\"https://www.example.com/catalog/1\"))\n",
    "print(fdp_catalog_record.serialize())\n"
   ]
  },
  {
   "cell_type": "code",
   "execution_count": null,
   "id": "d0fd96c0-6c84-48f9-a429-ec134052e704",
   "metadata": {},
   "outputs": [],
   "source": [
    "catalog_fdp_url = fdp_client.create_and_publish(resource_type=\"catalog\", metadata=fdp_catalog_record)\n",
    "print(catalog_fdp_url)"
   ]
  },
  {
   "cell_type": "markdown",
   "id": "1321040d-6c3f-4188-9fed-4c0b8c7ea35f",
   "metadata": {},
   "source": [
    "## Dataset"
   ]
  },
  {
   "cell_type": "code",
   "execution_count": null,
   "id": "d4fb945c-ade1-4722-bd3a-4aefbc999c90",
   "metadata": {},
   "outputs": [],
   "source": [
    "hri_dataset = HRIDataset(\n",
    "    contact_point=HRIVCard(\n",
    "        hasEmail=\"mailto:data-access-committee@xumc.nl\",\n",
    "        formatted_name=\"Data Access Committee of the x UMC\")\n",
    "    ,\n",
    "    creator=[HRIAgent(\n",
    "        name=[\"Academic Medical Center\"], \n",
    "        identifier=[\"https://ror.org/05wg1m734\"],\n",
    "        homepage=\"https://www.xumc.nl\",\n",
    "        mbox=\"mailto:data-access-committee@xumc.nl\"    \n",
    "    )],\n",
    "    description=[LiteralField(value=\n",
    "                              \"The primary aim of the PRISMA study was to investigate the potential value of risk-tailored versus \"\n",
    "                              \"traditional breast cancer screening protocols in the Netherlands. Data collection took place between \"\n",
    "                              \"2014-2019, resulting in ∼67,000 mammograms, ∼38,000 surveys, ∼10,000 blood samples and ∼600 saliva \"\n",
    "                              \"samples.\")],\n",
    "    release_date=parser.isoparse(\"2024-07-01T11:11:11Z\"),\n",
    "    identifier=\"https://www.example.com/dataset/ZLOYOJ\",\n",
    "    modification_date=parser.isoparse(\"2024-06-04T13:36:10Z\"),\n",
    "    publisher=HRIAgent(\n",
    "        name=[\"Academic Medical Center\"], \n",
    "        identifier=[\"https://ror.org/05wg1m734\"],\n",
    "        homepage=\"https://www.xumc.nl\",\n",
    "        mbox=\"mailto:data-access-committee@xumc.nl\"    \n",
    "    ),\n",
    "    theme=[URIRef(\"http://publications.europa.eu/resource/authority/data-theme/HEAL\")],\n",
    "    title=[LiteralField(value=\"Questionnaire data of the Personalised RISk-based MAmmascreening Study (PRISMA)\")],\n",
    "    distribution=[],\n",
    "    access_rights=URIRef(\"http://publications.europa.eu/resource/authority/access-right/RESTRICTED\"),\n",
    "    keyword=['example'],\n",
    "    applicable_legislation=[\"http://data.europa.eu/eli/reg/2025/327/oj\"]\n",
    ")"
   ]
  },
  {
   "cell_type": "code",
   "execution_count": null,
   "id": "ef3fd1a6-af8c-4410-aec3-0a3a6aa74156",
   "metadata": {},
   "outputs": [],
   "source": [
    "fdp_dataset_record = hri_dataset.to_graph(subject=URIRef(hri_dataset.identifier))\n",
    "fdp_dataset_record.add((\n",
    "    URIRef(hri_dataset.identifier), \n",
    "    DCTERMS.isPartOf, \n",
    "    URIRef(catalog_fdp_url)\n",
    "))\n",
    "dataset_fdp_url = fdp_client.create_and_publish(resource_type=\"dataset\", metadata=fdp_dataset_record)\n",
    "\n",
    "print(dataset_fdp_url)"
   ]
  },
  {
   "cell_type": "markdown",
   "id": "f0f8292e-334a-4a5e-913b-16e48359b2b5",
   "metadata": {},
   "source": [
    "## Distribution"
   ]
  },
  {
   "cell_type": "code",
   "execution_count": null,
   "id": "e7d1801f-694f-4a26-a0e2-b2222fa282f9",
   "metadata": {},
   "outputs": [],
   "source": [
    "hri_distribution = HRIDistribution(\n",
    "    title=[\n",
    "        LiteralField(value=\"CSV-distribution of the questionnaire data of the Personalised RISk-based MAmmascreening Study (PRISMA)\")\n",
    "    ],\n",
    "    description=[\n",
    "        LiteralField(value=\"CSV file containing the questionnaire data of the PRISMA study\")\n",
    "    ],\n",
    "    access_url=URIRef(\"https://example.com/dataset/PRISMA/questionnaire.csv\"),\n",
    "    media_type=URIRef(\"https://www.iana.org/assignments/media-types/text/csv\"),\n",
    "    byte_size=4096,\n",
    "    license=URIRef(\"https://definities.geostandaarden.nl/dcat-ap-nl/id/waardelijst/licenties/niet_open\"),\n",
    "    rights=\"https://www.example.com/contracts/definitely_a_real_DPA.pdf\",\n",
    "    format=URIRef(\"http://publications.europa.eu/resource/authority/file-type/CSV\")\n",
    ")"
   ]
  },
  {
   "cell_type": "code",
   "execution_count": null,
   "id": "9a0b243a-5a44-40ff-9e21-92fa77ea9958",
   "metadata": {},
   "outputs": [],
   "source": [
    "access_url_str = str(hri_distribution.access_url)\n",
    "distribution_uri = URIRef(f\"{hri_dataset.identifier}/distribution/{access_url_str.split('/')[-1]}\")\n",
    "fdp_distribution_record = hri_distribution.to_graph(subject=distribution_uri)\n",
    "fdp_distribution_record.add((distribution_uri, DCTERMS.isPartOf, URIRef(f\"{dataset_fdp_url}\")))\n",
    "distribution_fdp_url = fdp_client.create_and_publish(resource_type=\"distribution\", metadata=fdp_distribution_record)\n",
    "\n",
    "print(distribution_fdp_url)"
   ]
  },
  {
   "cell_type": "markdown",
   "id": "05ba4440-263c-4a63-bddd-76d7f9a8195b",
   "metadata": {},
   "source": [
    "## Data Service"
   ]
  },
  {
   "cell_type": "code",
   "execution_count": null,
   "id": "e8e15f30-59b2-470d-a7b5-3821c28f1c56",
   "metadata": {},
   "outputs": [],
   "source": [
    "hri_dataservice = HRIDataService(\n",
    "    title=[\n",
    "        LiteralField(value=\"Example Data Service Title\")\n",
    "    ],\n",
    "    description=[\n",
    "        LiteralField(value=\"Example Data Service Description\")\n",
    "    ],\n",
    "    endpoint_description=LiteralField(value=\"Example Data Service Endpoint Description\"),\n",
    "    contact_point=HRIVCard(\n",
    "        hasEmail=\"mailto:data-access-committee@xumc.nl\",\n",
    "        formatted_name=\"Data Access Committee of the x UMC\"),\n",
    "    access_rights=URIRef(\"http://publications.europa.eu/resource/authority/access-right/RESTRICTED\"),\n",
    "    endpoint_url=\"https://www.example.com/dataservice/1\",\n",
    "    identifier=\"www.example.com/dataservice/1\",\n",
    "    license=URIRef(\"https://definities.geostandaarden.nl/dcat-ap-nl/id/waardelijst/licenties/niet_open\"),\n",
    "    publisher=HRIAgent(\n",
    "        name=[\"Academic Medical Center\"], \n",
    "        identifier=[\"https://ror.org/05wg1m734\"],\n",
    "        homepage=\"https://www.xumc.nl\",\n",
    "        mbox=\"mailto:data-access-committee@xumc.nl\"    \n",
    "    ),\n",
    "    theme=[URIRef(\"http://publications.europa.eu/resource/authority/data-theme/HEAL\")]\n",
    ")"
   ]
  },
  {
   "cell_type": "code",
   "execution_count": null,
   "id": "fe076692-2f07-40df-8c8a-a1cbf54d3007",
   "metadata": {},
   "outputs": [],
   "source": [
    "fdp_dataservice_record = hri_dataservice.to_graph(subject=URIRef(hri_dataservice.identifier))\n",
    "fdp_dataservice_record.add((\n",
    "    URIRef(hri_dataservice.identifier), \n",
    "    DCTERMS.isPartOf, \n",
    "    URIRef(f\"{catalog_fdp_url}\")\n",
    "))\n",
    "dataservice_fdp_url = fdp_client.create_and_publish(resource_type=\"dataservice\", metadata=fdp_dataservice_record)\n",
    "\n",
    "print(dataservice_fdp_url)"
   ]
  },
  {
   "cell_type": "markdown",
   "id": "c14457ef-1394-4b04-9704-173587787148",
   "metadata": {},
   "source": [
    "## Dataset Series"
   ]
  },
  {
   "cell_type": "code",
   "execution_count": null,
   "id": "de8be907-b8aa-4442-ab46-8c6ffa85c462",
   "metadata": {},
   "outputs": [],
   "source": [
    "fdp_datasetseries = FDPDatasetSeries(\n",
    "    title=[\n",
    "        LiteralField(value=\"Example Dataset Series title\")\n",
    "    ],\n",
    "    description=[\n",
    "        LiteralField(value=\"Example Dataset Series description\")\n",
    "    ],\n",
    "    contact_point=[HRIVCard(\n",
    "        hasEmail=\"mailto:data-access-committee@xumc.nl\",\n",
    "        formatted_name=\"Data Access Committee of the x UMC\")],\n",
    "    is_part_of=[URIRef(dataset_fdp_url)],\n",
    ")\n",
    "fdp_datasetseries_record = fdp_datasetseries.to_graph(URIRef(f\"https://www.example.com/datasetseries/1\"))\n",
    "print(fdp_datasetseries_record.serialize())"
   ]
  },
  {
   "cell_type": "code",
   "execution_count": null,
   "id": "dcf12c9e-1b8d-49d0-9214-a76dc8d3f3cd",
   "metadata": {},
   "outputs": [],
   "source": [
    "datasetseries_fdp_url = fdp_client.create_and_publish(resource_type=\"datasetseries\", metadata=fdp_datasetseries_record)\n",
    "\n",
    "print(datasetseries_fdp_url)"
   ]
  },
  {
   "cell_type": "code",
   "execution_count": null,
   "id": "b086dbf0-f253-4e7e-b5e9-6153e9de12c7",
   "metadata": {},
   "outputs": [],
   "source": []
  }
 ],
 "metadata": {
  "kernelspec": {
   "display_name": "Python 3 (ipykernel)",
   "language": "python",
   "name": "python3"
  },
  "language_info": {
   "codemirror_mode": {
    "name": "ipython",
    "version": 3
   },
   "file_extension": ".py",
   "mimetype": "text/x-python",
   "name": "python",
   "nbconvert_exporter": "python",
   "pygments_lexer": "ipython3",
   "version": "3.10.16"
  }
 },
 "nbformat": 4,
 "nbformat_minor": 5
}
