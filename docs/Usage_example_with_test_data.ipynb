{
 "cells": [
  {
   "cell_type": "markdown",
   "id": "8ef630c0-1c7b-4aea-b674-0772d5085aec",
   "metadata": {},
   "source": [
    "Let's consider creating DCAT-AP compliant datasets from some source data. \n",
    "In order to do so we import DCATDataset class first and look into it's annotation:"
   ]
  },
  {
   "cell_type": "code",
   "execution_count": 1,
   "id": "04dd87c7-6192-4273-9709-d8abd15fb514",
   "metadata": {},
   "outputs": [
    {
     "name": "stdout",
     "output_type": "stream",
     "text": [
      "{'access_rights': 'Information about who can access the resource or an '\n",
      "                  'indication of its security status.',\n",
      " 'conforms_to': 'An established standard to which the described resource '\n",
      "                'conforms.',\n",
      " 'contact_point': 'Relevant contact information for the cataloged resource. '\n",
      "                  'Use of vCard is recommended',\n",
      " 'creator': 'The entity responsible for producing the resource. Resources of '\n",
      "            'type foaf:Agent are recommended as values for this property.',\n",
      " 'description': 'A free-text account of the resource.',\n",
      " 'distribution': 'An available distribution of the dataset.',\n",
      " 'first': 'The first resource in an ordered collection or series of resources, '\n",
      "          'to which the current resource belongs.',\n",
      " 'frequency': 'The frequency at which a dataset is published.',\n",
      " 'has_current_version': 'This resource has a more specific, versioned resource '\n",
      "                        'with equivalent content [PAV].',\n",
      " 'has_part': 'A related resource that is included either physically or '\n",
      "             'logically in the described resource.',\n",
      " 'has_policy': 'An ODRL conformant policy expressing the rights associated '\n",
      "               'with the resource.',\n",
      " 'has_version': 'This resource has a more specific, versioned resource',\n",
      " 'identifier': 'A unique identifier of the resource being described or '\n",
      "               'cataloged.',\n",
      " 'in_series': 'A dataset series of which the dataset is part.',\n",
      " 'is_referenced_by': 'A related resource, such as a publication, that '\n",
      "                     'references, cites, or otherwise points to the cataloged '\n",
      "                     'resource.',\n",
      " 'keyword': 'A keyword or tag describing the resource.',\n",
      " 'landing_page': 'A Web page that can be navigated to in a Web browser to gain '\n",
      "                 'access to the catalog, a dataset, its distributions and/or '\n",
      "                 'additional information.',\n",
      " 'language': 'A language of the resource. This refers to the natural language '\n",
      "             'used for textual metadata (i.e., titles, descriptions, etc.) of '\n",
      "             'a cataloged resource (i.e., dataset or service) or the textual '\n",
      "             'values of a dataset distribution',\n",
      " 'last': 'The last resource in an ordered collection or series of resources, '\n",
      "         'to which the current resource belongs.',\n",
      " 'license': 'A legal document under which the resource is made available.',\n",
      " 'previous': 'The previous resource (before the current one) in an ordered '\n",
      "             'collection or series of resources.',\n",
      " 'previous_version': 'The previous version of a resource in a lineage [PAV].',\n",
      " 'publisher': 'The entity responsible for making the resource available.',\n",
      " 'qualified_attribution': 'Link to an Agent having some form of responsibility '\n",
      "                          'for the resource',\n",
      " 'qualified_relation': 'Link to a description of a relationship with another '\n",
      "                       'resource',\n",
      " 'relation': 'A resource with an unspecified relationship to the cataloged '\n",
      "             'resource.',\n",
      " 'release_date': 'Date of formal issuance (e.g., publication) of the resource.',\n",
      " 'replaces': 'A related resource that is supplanted, displaced, or superseded '\n",
      "             'by the described resource',\n",
      " 'rights': 'Information about rights held in and over the distribution. '\n",
      "           'Recommended practice is to refer to a rights statement with a URI. '\n",
      "           'If this is not possible or feasible, a literal value (name, label, '\n",
      "           'or short text) may be provided.',\n",
      " 'spatial': 'The geographical area covered by the dataset.',\n",
      " 'spatial_resolution': 'Minimum spatial separation resolvable in a dataset, '\n",
      "                       'measured in meters.',\n",
      " 'status': 'The status of the resource in the context of a particular workflow '\n",
      "           'process [VOCAB-ADMS].',\n",
      " 'temporal_coverage': 'The temporal period that the dataset covers.',\n",
      " 'temporal_resolution': 'Minimum time period resolvable in the dataset.',\n",
      " 'theme': 'A main category of the resource. A resource can have multiple '\n",
      "          'themes.',\n",
      " 'title': 'A name given to the resource.',\n",
      " 'type': 'The nature or genre of the resource.',\n",
      " 'update_date': 'Most recent date on which the resource was changed, updated '\n",
      "                'or modified.',\n",
      " 'version': 'The version indicator (name or identifier) of a resource.',\n",
      " 'version_notes': 'A description of changes between this version and the '\n",
      "                  'previous version of the resource [VOCAB-ADMS].',\n",
      " 'was_generated_by': 'An activity that generated, or provides the business '\n",
      "                     'context for, the creation of the dataset.'}\n"
     ]
    },
    {
     "name": "stderr",
     "output_type": "stream",
     "text": [
      "/Users/anastasianayden/PycharmProjects/pythonProject/pythonProject/HRIPydanticModels/venv/lib/python3.11/site-packages/pydantic/_internal/_generate_schema.py:355: UserWarning: [typing.Annotated[pydantic_core._pydantic_core.Url, UrlConstraints(max_length=None, allowed_schemes=['http', 'https'], host_required=None, default_host=None, default_port=None, default_path=None)]] is not a Python type (it may be an instance of an object), Pydantic will allow any object with no validation since we cannot even enforce that the input is an instance of the given type. To get rid of this error wrap the type with `pydantic.SkipValidation`.\n",
      "  warn(\n"
     ]
    }
   ],
   "source": [
    "from sempyro.dcat import DCATDataset\n",
    "import pprint\n",
    "\n",
    "dcat_fields = DCATDataset.annotate_model()\n",
    "pprint.pprint(dcat_fields.fields_description())"
   ]
  },
  {
   "cell_type": "markdown",
   "id": "d8e38155-178b-4ffa-99a5-92cb629a81c1",
   "metadata": {},
   "source": [
    "Mandatory fields are:"
   ]
  },
  {
   "cell_type": "code",
   "execution_count": null,
   "id": "715e3cee-904f-4cc6-a597-2a273481bcf9",
   "metadata": {},
   "outputs": [],
   "source": [
    "pprint.pprint(dcat_fields.mandatory_fields())"
   ]
  },
  {
   "cell_type": "markdown",
   "id": "9c8cb60c-bd35-44b0-84be-d31ee0fb3c24",
   "metadata": {},
   "source": [
    "Fields datatypes:"
   ]
  },
  {
   "cell_type": "code",
   "execution_count": null,
   "id": "fda23e05-a2b1-4c23-a3b2-0bc458b3ea15",
   "metadata": {},
   "outputs": [],
   "source": [
    "pprint.pprint(dcat_fields.get_fields_types())"
   ]
  },
  {
   "cell_type": "markdown",
   "id": "9e9f463b-2a8b-4737-b7a4-679021f8064d",
   "metadata": {},
   "source": [
    "Now when we know something about target let look into the source:"
   ]
  },
  {
   "cell_type": "code",
   "execution_count": 2,
   "id": "6391c276-214d-4c36-bf22-62b136627aab",
   "metadata": {},
   "outputs": [
    {
     "name": "stdout",
     "output_type": "stream",
     "text": [
      "+------+-----------------------------+----------------------------------------------------------------------+------------------+------------------------------------------------------+-------------------------------------+\n",
      "|   id | name                        | description                                                          | author_name      | author_id                                            | keywords                            |\n",
      "|------+-----------------------------+----------------------------------------------------------------------+------------------+------------------------------------------------------+-------------------------------------|\n",
      "|    1 | Gryffindor research project | Impact of muggle technical inventions on word's magic presense       | Hermione Granger | https://harrypotter.fandom.com/wiki/Hermione_Granger | magic, technic, muggles             |\n",
      "|    2 | Slytherin research project  | Comarative analysis of magic powers of muggle-born and blood wizards | Draco Malfoy     | https://harrypotter.fandom.com/wiki/Draco_Malfoy     | half-blood, muggle-born, pure-blood |\n",
      "|    3 | Ravenclaw research project  | Linguistic analysis of spells                                        | Luna Lovegood    | https://harrypotter.fandom.com/wiki/Luna_Lovegood    | linguastics spell                   |\n",
      "|    4 | Hufflepuff research project | Domestics elfs reproduction rate changes in the last 100 years       | Dora Williams    | https://harrypotter.fandom.com/wiki/Dora_Williams    | domestic elf                        |\n",
      "+------+-----------------------------+----------------------------------------------------------------------+------------------+------------------------------------------------------+-------------------------------------+\n"
     ]
    }
   ],
   "source": [
    "from tabulate import tabulate\n",
    "import pandas as pd\n",
    "\n",
    "df = pd.read_csv(\"./example_data.csv\", sep=\";\")\n",
    "print(tabulate(df, headers='keys', tablefmt='psql', showindex=False))"
   ]
  },
  {
   "cell_type": "markdown",
   "id": "e0a222b9-b0d3-42b3-a619-78c720025d39",
   "metadata": {},
   "source": [
    "Comparing fields annotation output we see mandatory fields are in place, but some other need to be renamed and preprocessed."
   ]
  },
  {
   "cell_type": "code",
   "execution_count": 3,
   "id": "9cf6315c-fce0-4f00-b430-586f167eebfd",
   "metadata": {},
   "outputs": [],
   "source": [
    "from sempyro.vcard import VCard\n",
    "\n",
    "df[\"keywords\"] = df[\"keywords\"].apply(lambda x: x.split(\",\"))\n",
    "df[\"id\"] = df[\"id\"].apply(lambda x: [str(x)])\n",
    "df[\"description\"] = df[\"description\"].apply(lambda x: [x])\n",
    "df[\"name\"] = df[\"name\"].apply(lambda x: [x])\n",
    "df[\"creator\"] = df.apply(lambda x: [{\"full_name\": [x[\"author_name\"]], \"hasUID\": x[\"author_id\"]}], axis=1)\n",
    "df.drop(columns=[\"author_name\", \"author_id\"], inplace=True)\n",
    "df.rename(columns={\"id\": \"identifier\", \"name\": \"title\", \"keywords\": \"keyword\"}, inplace=True)\n"
   ]
  },
  {
   "cell_type": "code",
   "execution_count": 6,
   "id": "a42d24c1-e262-4ddd-80ea-8756858763df",
   "metadata": {},
   "outputs": [
    {
     "name": "stdout",
     "output_type": "stream",
     "text": [
      "@prefix dcat: <http://www.w3.org/ns/dcat#> .\n",
      "@prefix dcterms: <http://purl.org/dc/terms/> .\n",
      "@prefix v: <http://www.w3.org/2006/vcard/ns#> .\n",
      "\n",
      "<1> a dcat:Dataset ;\n",
      "    dcterms:creator [ a v:VCard ;\n",
      "            v:fn \"Hermione Granger\" ;\n",
      "            v:hasUID <https://harrypotter.fandom.com/wiki/Hermione_Granger> ] ;\n",
      "    dcterms:description \"Impact of muggle technical inventions on word's magic presense\" ;\n",
      "    dcterms:identifier \"1\" ;\n",
      "    dcterms:title \"Gryffindor research project\" ;\n",
      "    dcat:keyword \" muggles\",\n",
      "        \" technic\",\n",
      "        \"magic\" .\n",
      "\n",
      "\n",
      "@prefix dcat: <http://www.w3.org/ns/dcat#> .\n",
      "@prefix dcterms: <http://purl.org/dc/terms/> .\n",
      "@prefix v: <http://www.w3.org/2006/vcard/ns#> .\n",
      "\n",
      "<2> a dcat:Dataset ;\n",
      "    dcterms:creator [ a v:VCard ;\n",
      "            v:fn \"Draco Malfoy\" ;\n",
      "            v:hasUID <https://harrypotter.fandom.com/wiki/Draco_Malfoy> ] ;\n",
      "    dcterms:description \"Comarative analysis of magic powers of muggle-born and blood wizards \" ;\n",
      "    dcterms:identifier \"2\" ;\n",
      "    dcterms:title \"Slytherin research project\" ;\n",
      "    dcat:keyword \" muggle-born\",\n",
      "        \" pure-blood\",\n",
      "        \"half-blood\" .\n",
      "\n",
      "\n",
      "@prefix dcat: <http://www.w3.org/ns/dcat#> .\n",
      "@prefix dcterms: <http://purl.org/dc/terms/> .\n",
      "@prefix v: <http://www.w3.org/2006/vcard/ns#> .\n",
      "\n",
      "<3> a dcat:Dataset ;\n",
      "    dcterms:creator [ a v:VCard ;\n",
      "            v:fn \"Luna Lovegood\" ;\n",
      "            v:hasUID <https://harrypotter.fandom.com/wiki/Luna_Lovegood> ] ;\n",
      "    dcterms:description \"Linguistic analysis of spells\" ;\n",
      "    dcterms:identifier \"3\" ;\n",
      "    dcterms:title \"Ravenclaw research project\" ;\n",
      "    dcat:keyword \"linguastics spell\" .\n",
      "\n",
      "\n",
      "@prefix dcat: <http://www.w3.org/ns/dcat#> .\n",
      "@prefix dcterms: <http://purl.org/dc/terms/> .\n",
      "@prefix v: <http://www.w3.org/2006/vcard/ns#> .\n",
      "\n",
      "<4> a dcat:Dataset ;\n",
      "    dcterms:creator [ a v:VCard ;\n",
      "            v:fn \"Dora Williams\" ;\n",
      "            v:hasUID <https://harrypotter.fandom.com/wiki/Dora_Williams> ] ;\n",
      "    dcterms:description \"Domestics elfs reproduction rate changes in the last 100 years\" ;\n",
      "    dcterms:identifier \"4\" ;\n",
      "    dcterms:title \"Hufflepuff research project\" ;\n",
      "    dcat:keyword \"domestic elf\" .\n",
      "\n",
      "\n"
     ]
    }
   ],
   "source": [
    "from rdflib import URIRef\n",
    "\n",
    "datasets = df.to_dict('records')\n",
    "dcat_datasets = [DCATDataset(**x) for x in datasets]\n",
    "for item in dcat_datasets:\n",
    "    print(item.to_graph(URIRef(item.identifier[0])).serialize())"
   ]
  },
  {
   "cell_type": "markdown",
   "id": "dae279ab-47e8-413e-b0ff-89cd88223168",
   "metadata": {},
   "source": [
    "Say we have a FDP instance where we would like to publish data under a pre-existing catalog with identifier \"http://myfdp/catalog/my-catalogue-id-1\". Also FDP implementation re-defines general DCATResource.relation as \"is_part_of\" for a dataset. Thet is why we need to define a child class and extend it with \"is_part_of\" field. "
   ]
  },
  {
   "cell_type": "code",
   "execution_count": 9,
   "id": "18d2f272-fcd6-4669-a441-2f6e02372dc9",
   "metadata": {},
   "outputs": [
    {
     "name": "stdout",
     "output_type": "stream",
     "text": [
      "@prefix dcat: <http://www.w3.org/ns/dcat#> .\n",
      "@prefix dcterms: <http://purl.org/dc/terms/> .\n",
      "@prefix v: <http://www.w3.org/2006/vcard/ns#> .\n",
      "\n",
      "<1> a dcat:Dataset ;\n",
      "    dcterms:creator [ a v:VCard ;\n",
      "            v:fn \"Hermione Granger\" ;\n",
      "            v:hasUID <https://harrypotter.fandom.com/wiki/Hermione_Granger> ] ;\n",
      "    dcterms:description \"Impact of muggle technical inventions on word's magic presense\" ;\n",
      "    dcterms:identifier \"1\" ;\n",
      "    dcterms:isPartOf <http://myfdp/catalog/my-catalogue-id-1> ;\n",
      "    dcterms:title \"Gryffindor research project\" ;\n",
      "    dcat:keyword \" muggles\",\n",
      "        \" technic\",\n",
      "        \"magic\" .\n",
      "\n",
      "\n",
      "@prefix dcat: <http://www.w3.org/ns/dcat#> .\n",
      "@prefix dcterms: <http://purl.org/dc/terms/> .\n",
      "@prefix v: <http://www.w3.org/2006/vcard/ns#> .\n",
      "\n",
      "<2> a dcat:Dataset ;\n",
      "    dcterms:creator [ a v:VCard ;\n",
      "            v:fn \"Draco Malfoy\" ;\n",
      "            v:hasUID <https://harrypotter.fandom.com/wiki/Draco_Malfoy> ] ;\n",
      "    dcterms:description \"Comarative analysis of magic powers of muggle-born and blood wizards \" ;\n",
      "    dcterms:identifier \"2\" ;\n",
      "    dcterms:isPartOf <http://myfdp/catalog/my-catalogue-id-1> ;\n",
      "    dcterms:title \"Slytherin research project\" ;\n",
      "    dcat:keyword \" muggle-born\",\n",
      "        \" pure-blood\",\n",
      "        \"half-blood\" .\n",
      "\n",
      "\n",
      "@prefix dcat: <http://www.w3.org/ns/dcat#> .\n",
      "@prefix dcterms: <http://purl.org/dc/terms/> .\n",
      "@prefix v: <http://www.w3.org/2006/vcard/ns#> .\n",
      "\n",
      "<3> a dcat:Dataset ;\n",
      "    dcterms:creator [ a v:VCard ;\n",
      "            v:fn \"Luna Lovegood\" ;\n",
      "            v:hasUID <https://harrypotter.fandom.com/wiki/Luna_Lovegood> ] ;\n",
      "    dcterms:description \"Linguistic analysis of spells\" ;\n",
      "    dcterms:identifier \"3\" ;\n",
      "    dcterms:isPartOf <http://myfdp/catalog/my-catalogue-id-1> ;\n",
      "    dcterms:title \"Ravenclaw research project\" ;\n",
      "    dcat:keyword \"linguastics spell\" .\n",
      "\n",
      "\n",
      "@prefix dcat: <http://www.w3.org/ns/dcat#> .\n",
      "@prefix dcterms: <http://purl.org/dc/terms/> .\n",
      "@prefix v: <http://www.w3.org/2006/vcard/ns#> .\n",
      "\n",
      "<4> a dcat:Dataset ;\n",
      "    dcterms:creator [ a v:VCard ;\n",
      "            v:fn \"Dora Williams\" ;\n",
      "            v:hasUID <https://harrypotter.fandom.com/wiki/Dora_Williams> ] ;\n",
      "    dcterms:description \"Domestics elfs reproduction rate changes in the last 100 years\" ;\n",
      "    dcterms:identifier \"4\" ;\n",
      "    dcterms:isPartOf <http://myfdp/catalog/my-catalogue-id-1> ;\n",
      "    dcterms:title \"Hufflepuff research project\" ;\n",
      "    dcat:keyword \"domestic elf\" .\n",
      "\n",
      "\n"
     ]
    }
   ],
   "source": [
    "from pydantic import AnyUrl, Field\n",
    "from rdflib import DCTERMS\n",
    "\n",
    "class FDPDataset(DCATDataset):\n",
    "    is_part_of: AnyUrl = Field(description=\"fdp catalog id\", rdf_term=DCTERMS.isPartOf, rdf_type=\"uri\")\n",
    "\n",
    "df[\"is_part_of\"] = \"http://myfdp/catalog/my-catalogue-id-1\"\n",
    "fdp_datasets_data = df.to_dict('records')\n",
    "fdp_datasets = [FDPDataset(**x) for x in fdp_datasets_data]\n",
    "for item in fdp_datasets:\n",
    "    print(item.to_graph(URIRef(item.identifier[0])).serialize())\n"
   ]
  },
  {
   "cell_type": "markdown",
   "id": "5746dd3f-a22f-472d-9a54-1f56419c9c56",
   "metadata": {},
   "source": [
    "Serialized records may be passed to FDP API client"
   ]
  }
 ],
 "metadata": {
  "kernelspec": {
   "display_name": "Python 3 (ipykernel)",
   "language": "python",
   "name": "python3"
  },
  "language_info": {
   "codemirror_mode": {
    "name": "ipython",
    "version": 3
   },
   "file_extension": ".py",
   "mimetype": "text/x-python",
   "name": "python",
   "nbconvert_exporter": "python",
   "pygments_lexer": "ipython3",
   "version": "3.11.3"
  }
 },
 "nbformat": 4,
 "nbformat_minor": 5
}
