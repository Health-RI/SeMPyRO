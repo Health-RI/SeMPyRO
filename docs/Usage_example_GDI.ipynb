{
 "cells": [
  {
   "cell_type": "markdown",
   "metadata": {},
   "source": [
    "# GDI Example dataset"
   ]
  },
  {
   "cell_type": "markdown",
   "metadata": {},
   "source": [
    "The GDI project has its own specific metadata based on DCAT and HealthDCAT-AP.\n",
    "Here is an example using the following six fields:\n",
    "\n",
    "1. Dataset Title\n",
    "2. Dataset Description\n",
    "3. Number of participants\n",
    "4. Relevant phenotypes (covid status, sex, age?, smoking status?)\n",
    "5. DUO Codes?\n",
    "6. Ancestry / Population?\n",
    "\n",
    "The first two are part of the Dublin core terms, the third is defined by HealthDCAT-AP."
   ]
  },
  {
   "cell_type": "markdown",
   "metadata": {},
   "source": [
    "Let's first import some stuff and define the HealthDCAT-AP namespace.\n",
    "\n",
    "⚠️ The HealthDCAT-AP namespace is not formally defined yet, so we use a placeholder"
   ]
  },
  {
   "cell_type": "code",
   "execution_count": null,
   "metadata": {},
   "outputs": [],
   "source": [
    "from typing import List, Union\n",
    "\n",
    "from pydantic import ConfigDict, Field\n",
    "from rdflib import DCAT, DCTERMS, Namespace, URIRef\n",
    "from rdflib.namespace import DefinedNamespace\n",
    "\n",
    "from sempyro.dcat import DCATDataset\n",
    "from sempyro.rdf_model import LiteralField\n",
    "\n",
    "\n",
    "# Define HealthDCAT-AP namespace with some properties\n",
    "class HEALTHDCAT(DefinedNamespace):\n",
    "    minTypicalAge: int\n",
    "    maxTypicalAge: int\n",
    "    numberOfUniqueIndividuals: int\n",
    "    numberOfRecords: int\n",
    "    populationCoverage: List[LiteralField]\n",
    "\n",
    "    # FIXME: This is a placeholder until official HealthDCAT-AP namespace is defined\n",
    "    _NS = Namespace(\"http://healthdataportal.eu/ns/health#\")"
   ]
  },
  {
   "cell_type": "markdown",
   "metadata": {},
   "source": [
    "Second, we define a Dataset class for GDI MS8. This is based on the DCAT-AP dataset class, but with\n",
    "a few additional properties we borrow from HealthDCAT-AP. In this case, we define the number of\n",
    "participants as a mandatory property, and the population coverage description as an optional one."
   ]
  },
  {
   "cell_type": "code",
   "execution_count": null,
   "metadata": {},
   "outputs": [],
   "source": [
    "class GDIDataset(DCATDataset):\n",
    "    model_config = ConfigDict(\n",
    "                              json_schema_extra={\n",
    "                                  \"$ontology\": \"https://healthdcat-ap.github.io/\",\n",
    "                                  \"$namespace\": str(HEALTHDCAT),\n",
    "                                  \"$IRI\": DCAT.Dataset,\n",
    "                                  \"$prefix\": \"healthdcatap\"\n",
    "                              }\n",
    "                              )\n",
    "    min_typical_age: int = Field(\n",
    "        description=\" Minimum typical age of the population within the dataset\",\n",
    "        json_schema_extra={\n",
    "            \"rdf_term\": HEALTHDCAT.minTypicalAge,\n",
    "            \"rdf_type\": \"xsd:nonNegativeInteger\"\n",
    "        }\n",
    "    )\n",
    "    max_typical_age: int = Field(\n",
    "        description=\"Maximum typical age of the population within the dataset\",\n",
    "        json_schema_extra={\n",
    "            \"rdf_term\": HEALTHDCAT.maxTypicalAge,\n",
    "            \"rdf_type\": \"xsd:nonNegativeInteger\",\n",
    "        }\n",
    "    )\n",
    "    no_unique_individuals: int = Field(\n",
    "        description=\"Number of participants in study\",\n",
    "        json_schema_extra={\n",
    "            \"rdf_term\": HEALTHDCAT.numberOfUniqueIndividuals,\n",
    "            \"rdf_type\": \"xsd:nonNegativeInteger\",\n",
    "        }\n",
    "    )\n",
    "    no_records: int = Field(\n",
    "        description=\"Size of the dataset in terms of the number of records.\",\n",
    "        json_schema_extra={\n",
    "            \"rdf_term\": HEALTHDCAT.numberOfRecords, \n",
    "            \"rdf_type\": \"xsd:nonNegativeInteger\",\n",
    "        }\n",
    "    )\n",
    "    population_coverage: List[Union[str, LiteralField]] = Field(\n",
    "        default=None,\n",
    "        description=\"A definition of the population within the dataset\",\n",
    "        json_schema_extra={\n",
    "            \"rdf_term\": HEALTHDCAT.populationCoverage,\n",
    "            \"rdf_type\": \"rdfs_literal\"\n",
    "        }\n",
    "    )"
   ]
  },
  {
   "cell_type": "markdown",
   "metadata": {},
   "source": [
    "Now we are ready to define the dataset. We can do that as a Python dictionary.\n",
    "\n",
    "⚠️ As DCAT supports multilingual, Literals must usually be defined as a list. Using the\n",
    "`LiteralField` class, you can define a language for each string."
   ]
  },
  {
   "cell_type": "code",
   "execution_count": null,
   "metadata": {},
   "outputs": [],
   "source": [
    "import datetime\n",
    "\n",
    "from sempyro.dcat.dcat_distribution import DCATDistribution\n",
    "from sempyro.dcat.data_service import DCATDataService\n",
    "from sempyro.foaf.agent import Agent\n",
    "from sempyro.vcard.vcard import VCard\n",
    "\n",
    "\n",
    "dataset_subject = URIRef(\"http://example.com/gdi/dataset\")\n",
    "distribution_subject = URIRef(\"http://example.com/gdi/distribution\")\n",
    "dataservice_definition_subject = URIRef(\"http://example.com/gdi/dataservice\")\n",
    "\n",
    "dataset_definition = {\n",
    "    \"contact_point\": [VCard(hasEmail=[\"mailto:servicedesk@health-ri.nl\"], formatted_name=[\"Servicedesk Health-RI\"],\n",
    "    \"creator\": [Agent(name=[\"BSC\"], mbox=[\"mailto:info@bsc.es\"], homepage=\"https://www.bsc.es/\")],\n",
    "    \"description\": [\"\"\"The synthetic genomes have been created trying to mimic real cancer data of 4 patients (Named 185, 186, 187, and 188). \n",
    "    Mutations are based on real CRC patients from the PCAWG dataset. For each patient, two tumor samples at different time points and one \n",
    "    healthy sample have been simulated. The cancer intra-tumor heterogeneity and evolution in the patients is depicted by simulating reads \n",
    "    from tumor subclones separately and then mixing them according to their clonal proportions in each sample. For rapid use and transfer, \n",
    "    only selected chromosomes have been generated for each patient. For Beacon queries, the following url can be used https://gdi-beacon-prototype.azurewebsites.net/api/datasets/EGAD50000000276\"\"\"],\n",
    "    \"distribution\": [\"http://example.com/gdi/distribution\"],\n",
    "    \"release_date\": datetime.datetime(2025, 1, 29, 11, 11, 11, tzinfo=datetime.timezone.utc),\n",
    "    \"keyword\": [\"Cancer\", \"Colorectal Cancer\", \"Genomics\", \"Synthetic Data\"],\n",
    "    \"identifier\": [\"EGAD50000000276\"],\n",
    "    \"modification_date\": datetime.datetime(2025, 1, 29, 13, 36, 10, tzinfo=datetime.timezone.utc),\n",
    "    \"publisher\": [Agent(name=[\"Health-RI\"], mbox=[\"mailto:servicedesk@health-ri.nl\"], homepage=\"https://www.health-ri.nl/\")],\n",
    "    \"theme\": [URIRef(\"http://publications.europa.eu/resource/authority/data-theme/HEAL\")],\n",
    "    \"title\": [\"EOSC4Cancer Longitudinal Synthetic Colorectal Cancer Genomic data developed at BSC\"],\n",
    "    \"no_unique_individuals\": 4,\n",
    "    \"min_typical_age\": 1,\n",
    "    \"max_typical_age\": 100,\n",
    "    \"no_records\": 10,\n",
    "    \"population_coverage\": [\"This test dataset covers no real population.\"],\n",
    "    \"access_rights\": URIRef(\"http://publications.europa.eu/resource/authority/access-right/RESTRICTED\")\n",
    "}\n",
    "\n",
    "distribution_definition = {\n",
    "    \"title\": [\"Example VCF from BSC\"],\n",
    "    \"description\": [\"VCF file containing GWAS and allele frequency lookup data of synthetic Colorectal cancer cases.\"],\n",
    "    \"access_url\": [\"https://healthri-acceptance.powerappsportals.com/en-US/Health-RI-data-request-form/\"],\n",
    "    \"media_type\": \"https://www.iana.org/assignments/media-types/application/vcf\",\n",
    "    \"license\": URIRef(\"https://creativecommons.org/licenses/by-sa/4.0/\"),\n",
    "    \"format\": \"https://publications.europa.eu/resource/authority/file-type/VCF\",\n",
    "    \"byte_size\": 1024,\n",
    "    \"rights\": URIRef(\"http://publications.europa.eu/resource/authority/access-right/RESTRICTED\")\n",
    "    \"applicable_legislation": [URIRef(\"http://data.europa.eu/eli/reg/2025/327/oj\"]\n"
    "}\n",
    "\n",
    "dataservice_definition = {\n",
    "    \"title\": [\"Beacon+ implementation of Health-ri\"],\n",
    "    \"description\": [\"Beacon queries on cancer genomics data\"],\n",
    "    \"endpoint_url\": [\"https://gdi-test.healthdata.nl/api\"],\n",
    "    \"endpoint_description\": [\"https://gdi-test.healthdata.nl/api/info\"],  # assuming beacon+ spec URL\n",
    "    \"serves_dataset\": [\n",
    "        \"http://example.com/gdi/dataset\"\n",
    "    ],\n",
    "    \"access_rights\": URIRef(\"http://publications.europa.eu/resource/authority/access-right/RESTRICTED\"),\n",
    "    \"contact_point\": [VCard(hasEmail=[\"mailto:servicedesk@health-ri.nl\"], formatted_name=[\"Servicedesk Health-RI\"]],\n",
    "    \"identifier\": [\"EGAD50000000276-beacon\"],\n",
    "    \"license\": URIRef(\"https://creativecommons.org/licenses/by-nc/4.0/\"),\n",
    "    \"publisher\": [Agent(name=[\"Health-RI\"], mbox=[\"mailto:servicedesk@health-ri.nl\"], homepage=\"https://www.health-ri.nl/\")],\n",
    "    \"theme\": [URIRef(\"http://publications.europa.eu/resource/authority/data-theme/HEAL\")],# placeholder for controlled vocab if missing\n",
    "    \"keyword\": [\"beacon v2.0\"],\n",
    "    \"application_profile\": \"https://github.com/ga4gh-beacon/specification-v2\"\n",
    "}\n"
   ]
  },
  {
   "cell_type": "markdown",
   "metadata": {},
   "source": [
    "Finally, we instantiate the dataset class and print the serialization."
   ]
  },
  {
   "cell_type": "code",
   "execution_count": null,
   "metadata": {},
   "outputs": [],
   "source": [
    "example_dataset = GDIDataset(**dataset_definition)\n",
    "example_dataset_graph = example_dataset.to_graph(URIRef(\"http://example.com/gdi/dataset\"))\n",
    "example_distribution = DCATDistribution(**distribution_definition)\n",
    "example_distribution_graph = example_distribution.to_graph(distribution_subject)\n",
    "example_dataservice = DCATDataService(**dataservice_definition)\n",
    "example_dataservice_graph = example_dataservice.to_graph(dataservice_definition_subject)\n",
    "\n",
    "# Add them up for prettier visualization\n",
    "print((example_dataset_graph + example_distribution_graph + example_dataservice_graph).serialize(format=\"turtle\"))"
   ]
  },
  {
   "cell_type": "markdown",
   "metadata": {},
   "source": [
    "Now, we can push the Dataset to a FAIR Data Point. For this, we use the Health-RI developed\n",
    "[FAIRClient](https://github.com/Health-RI/fairclient) library.\n",
    "\n",
    "First, we define a couple of settings. Note: you will need an existing Catalog in the FDP to add\n",
    "the dataset to. If you don't have one, you can easily create them using the web interface."
   ]
  },
  {
   "cell_type": "code",
   "execution_count": null,
   "metadata": {},
   "outputs": [],
   "source": [
    "fdp_parent_catalog = \"http://localhost:8888/catalog/83e5c2a9-9fe8-4b98-8737-47ef7332f579\"\n",
    "fdp_baseurl = \"http://localhost:8888\"\n",
    "fdp_user = \"albert.einstein@example.com\"\n",
    "fdp_pass = \"password\""
   ]
  },
  {
   "cell_type": "code",
   "execution_count": null,
   "metadata": {},
   "outputs": [],
   "source": [
    "import fairclient.fdpclient\n",
    "\n",
    "# Log in to the FAIR Data Point\n",
    "fdpclient = fairclient.fdpclient.FDPClient(base_url=fdp_baseurl, username=fdp_user, password=fdp_pass)\n",
    "\n",
    "# Add a reference to the parent catalog to make the FDP happy\n",
    "example_dataset_graph.add((dataset_subject, DCTERMS.isPartOf, URIRef(fdp_parent_catalog)))"
   ]
  },
  {
   "cell_type": "code",
   "execution_count": null,
   "metadata": {},
   "outputs": [],
   "source": [
    "new_dataset = fdpclient.create_and_publish(\"dataset\", example_dataset_graph)\n",
    "print(new_dataset)"
   ]
  },
  {
   "cell_type": "markdown",
   "metadata": {},
   "source": [
    "To conclude we can now add the distribution to the dataset. This is done by adding the distribution to the dataset graph and then pushing it to the FDP."
   ]
  },
  {
   "cell_type": "code",
   "execution_count": null,
   "metadata": {},
   "outputs": [],
   "source": [
    "example_distribution_graph.add((distribution_subject, DCTERMS.isPartOf, URIRef(f\"{new_dataset}\")))\n",
    "distribution_fdp_id = fdpclient.create_and_publish(resource_type=\"distribution\", metadata=example_distribution_graph)\n",
    "\n",
    "print(distribution_fdp_id)\n",
    "\n",
    "example_dataservice_graph.add((dataservice_definition_subject, DCTERMS.isPartOf, URIRef(f\"{distribution_fdp_id}\")))\n",
    "dataservice_fdp_id = fdpclient.create_and_publish(resource_type=\"dataservice\", metadata=example_dataservice_graph)\n",
    "\n",
    "print(dataservice_fdp_id)"
   ]
  },
  {
   "cell_type": "markdown",
   "metadata": {},
   "source": [
    "Note: Manually setting the fdp_id of the distribution and dataservice into the dataset's distribution field and the distribution's access_service field is still required, as this has not been automated yet!"
   ]
  }
 ],
 "metadata": {
  "kernelspec": {
   "display_name": "Python 3 (ipykernel)",
   "language": "python",
   "name": "python3"
  },
  "language_info": {
   "codemirror_mode": {
    "name": "ipython",
    "version": 3
   },
   "file_extension": ".py",
   "mimetype": "text/x-python",
   "name": "python",
   "nbconvert_exporter": "python",
   "pygments_lexer": "ipython3",
   "version": "3.12.9"
  }
 },
 "nbformat": 4,
 "nbformat_minor": 4
}
