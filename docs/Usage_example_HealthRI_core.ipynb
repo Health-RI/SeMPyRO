{
 "cells": [
  {
   "cell_type": "markdown",
   "metadata": {},
   "source": [
    "# Health-RI core metadata example\n",
    "\n",
    "This notebook shows how to generate metadata compliant with the Health-RI core shapes using SeMPyRO."
   ]
  },
  {
   "cell_type": "markdown",
   "metadata": {},
   "source": [
    "First, we look at the Health-RI mandatory fields and their types for a Dataset."
   ]
  },
  {
   "cell_type": "code",
   "execution_count": 13,
   "metadata": {},
   "outputs": [
    {
     "name": "stdout",
     "output_type": "stream",
     "text": [
      "{'contact_point': {'RDF type': 'uri', 'datatype': 'List[Union[Url, VCard]]'},\n",
      " 'creator': {'RDF type': 'uri', 'datatype': 'List[Union[Url, Agent]]'},\n",
      " 'description': {'RDF type': 'literal', 'datatype': 'List[LiteralField]'},\n",
      " 'identifier': {'RDF type': 'xsd:string',\n",
      "                'datatype': 'Union[str, LiteralField]'},\n",
      " 'issued': {'RDF type': 'datetime_literal',\n",
      "            'datatype': 'Union[str, datetime, date, AwareDatetime, '\n",
      "                        'NaiveDatetime]'},\n",
      " 'license': {'RDF type': 'uri', 'datatype': 'Url'},\n",
      " 'modified': {'RDF type': 'datetime_literal',\n",
      "              'datatype': 'Union[str, date, AwareDatetime, NaiveDatetime]'},\n",
      " 'publisher': {'RDF type': 'uri', 'datatype': 'List[Union[Url, Agent]]'},\n",
      " 'theme': {'RDF type': 'uri', 'datatype': 'List[Url]'},\n",
      " 'title': {'RDF type': 'rdfs_literal', 'datatype': 'List[LiteralField]'}}\n"
     ]
    }
   ],
   "source": [
    "from sempyro.hri_dcat.hri_dataset import HRIDataset\n",
    "from sempyro.foaf.agent import Agent\n",
    "from pprint import pprint\n",
    "\n",
    "core_fields = HRIDataset.annotate_model()\n",
    "types = core_fields.get_fields_types()\n",
    "mandatory_types = {k: types[k] for k in core_fields.mandatory_fields()}\n",
    "pprint(mandatory_types)"
   ]
  },
  {
   "cell_type": "markdown",
   "metadata": {},
   "source": [
    "Now we read the previous example data. First we load and visualize it."
   ]
  },
  {
   "cell_type": "code",
   "execution_count": 14,
   "metadata": {},
   "outputs": [
    {
     "name": "stdout",
     "output_type": "stream",
     "text": [
      "+------+-----------------------------+----------------------------------------------------------------------+------------------+------------------------------------------------------+-------------------------------------+\n",
      "|   id | name                        | description                                                          | author_name      | author_id                                            | keywords                            |\n",
      "|------+-----------------------------+----------------------------------------------------------------------+------------------+------------------------------------------------------+-------------------------------------|\n",
      "|    1 | Gryffindor research project | Impact of muggle technical inventions on word's magic presense       | Hermione Granger | https://harrypotter.fandom.com/wiki/Hermione_Granger | magic, technic, muggles             |\n",
      "|    2 | Slytherin research project  | Comarative analysis of magic powers of muggle-born and blood wizards | Draco Malfoy     | https://harrypotter.fandom.com/wiki/Draco_Malfoy     | half-blood, muggle-born, pure-blood |\n",
      "|    3 | Ravenclaw research project  | Linguistic analysis of spells                                        | Luna Lovegood    | https://harrypotter.fandom.com/wiki/Luna_Lovegood    | linguastics spell                   |\n",
      "|    4 | Hufflepuff research project | Domestics elfs reproduction rate changes in the last 100 years       | Dora Williams    | https://harrypotter.fandom.com/wiki/Dora_Williams    | domestic elf                        |\n",
      "+------+-----------------------------+----------------------------------------------------------------------+------------------+------------------------------------------------------+-------------------------------------+\n"
     ]
    }
   ],
   "source": [
    "from tabulate import tabulate\n",
    "import pandas as pd\n",
    "\n",
    "df = pd.read_csv(\"./example_data.csv\", sep=\";\")\n",
    "print(tabulate(df, headers='keys', tablefmt='psql', showindex=False))"
   ]
  },
  {
   "cell_type": "markdown",
   "metadata": {},
   "source": [
    "A few fields already exist! We try to map all mandatory fields now based on what we have."
   ]
  },
  {
   "cell_type": "code",
   "execution_count": 15,
   "metadata": {},
   "outputs": [],
   "source": [
    "# We split keywords by the comma, and put them in a List\n",
    "df[\"keywords\"] = df[\"keywords\"].apply(lambda x: x.split(\",\"))\n",
    "df.rename(columns={\"keywords\": \"keyword\"}, inplace=True)\n",
    "\n",
    "# We rename \"id\" to identifier\n",
    "# Note: cardinality in DCAT-AP is 0..* but in Health-RI is 1..1\n",
    "# So it should NOT be in a list\n",
    "df[\"id\"] = df[\"id\"].apply(lambda x: str(x))\n",
    "df.rename(columns={\"id\": \"identifier\"}, inplace=True)\n",
    "\n",
    "# Description can stay as is, but we put it in a List (reason: i18n support).\n",
    "df[\"description\"] = df[\"description\"].apply(lambda x: [x])\n",
    "\n",
    "# Name is called \"title\" in dcat. We first put it in a List, then rename it\n",
    "df[\"name\"] = df[\"name\"].apply(lambda x: [x])\n",
    "df.rename(columns={\"name\": \"title\"}, inplace=True)\n",
    "\n",
    "# creator is a foaf:Agent. We add the mandatory tags for it\n",
    "df[\"creator\"] = df.apply(lambda x: [{'name': [\"author_name\"], 'identifier': x[\"author_id\"]}], axis=1)\n",
    "df.drop(columns=[\"author_name\", \"author_id\"], inplace=True)\n"
   ]
  },
  {
   "cell_type": "markdown",
   "metadata": {},
   "source": [
    "Great, we have half of the fields now! We are still missing the following:\n",
    "\n",
    "* contact_point\n",
    "* issued\n",
    "* license\n",
    "* modified\n",
    "* publisher\n",
    "* theme\n",
    "* type\n",
    "\n",
    "We do not need to panic, as we can usually get away with having these specified on a global level."
   ]
  },
  {
   "cell_type": "code",
   "execution_count": 16,
   "metadata": {},
   "outputs": [],
   "source": [
    "from rdflib import URIRef\n",
    "from sempyro.foaf.agent import Agent\n",
    "import datetime\n",
    "\n",
    "# contact_point is a VCard, we create a dictionary for it\n",
    "# prof. Dumbledore is the contact point for all Hogwarts-related research\n",
    "contact_point_vcard = {\"hasEmail\":URIRef(\"mailto:dumbledore@hogwarts.example.com\"), \"hasUID\":URIRef(\"https://www.wikidata.org/wiki/Q712548\")}\n",
    "df[\"contact_point\"] = [contact_point_vcard for _ in range(len(df))]\n",
    "\n",
    "# We add a Health theme for all datasets. Put it in a list cause cardinalit is 1..*\n",
    "df[\"theme\"] = [[URIRef(\"http://publications.europa.eu/resource/authority/data-theme/HEAL\")] for _ in range(len(df))]\n",
    "\n",
    "# CC BY-SA 4.0 license for all datasets, Hermione needs her citations\n",
    "df[\"license\"] = URIRef(\"https://creativecommons.org/licenses/by-sa/4.0/\")\n",
    "\n",
    "# Publisher is Hogwarts obviously\n",
    "df[\"publisher\"] = [[URIRef(\"https://harrypotter.fandom.com/wiki/Hogwarts_School_of_Witchcraft_and_Wizardry\")] for _ in range(len(df))]\n",
    "\n",
    "# Issued and modified we put some different times\n",
    "df[\"issued\"] = datetime.datetime(2024, 7, 1, 11, 11, 11)\n",
    "df[\"modified\"] = datetime.datetime.today()"
   ]
  },
  {
   "cell_type": "markdown",
   "metadata": {},
   "source": [
    "We can now see how the populated dataframe looks like:"
   ]
  },
  {
   "cell_type": "code",
   "execution_count": 17,
   "metadata": {},
   "outputs": [
    {
     "name": "stdout",
     "output_type": "stream",
     "text": [
      "+--------------+---------------------------------+---------------------------------------------------------------------------+-----------------------------------------------+---------------------------------------------------------------------------------------------------+-----------------------------------------------------------------------------------------------------------------------------------------------------+------------------------------------------------------------------------------------------+-------------------------------------------------+--------------------------------------------------------------------------------------------------------+---------------------+----------------------------+\n",
      "|   identifier | title                           | description                                                               | keyword                                       | creator                                                                                           | contact_point                                                                                                                                       | theme                                                                                    | license                                         | publisher                                                                                              | issued              | modified                   |\n",
      "|--------------+---------------------------------+---------------------------------------------------------------------------+-----------------------------------------------+---------------------------------------------------------------------------------------------------+-----------------------------------------------------------------------------------------------------------------------------------------------------+------------------------------------------------------------------------------------------+-------------------------------------------------+--------------------------------------------------------------------------------------------------------+---------------------+----------------------------|\n",
      "|            1 | ['Gryffindor research project'] | [\"Impact of muggle technical inventions on word's magic presense\"]        | ['magic', ' technic', ' muggles']             | [{'name': ['author_name'], 'identifier': 'https://harrypotter.fandom.com/wiki/Hermione_Granger'}] | [{'hasEmail': rdflib.term.URIRef('mailto:dumbledore@hogwarts.example.com'), 'hasUID': rdflib.term.URIRef('https://www.wikidata.org/wiki/Q712548')}] | [rdflib.term.URIRef('http://publications.europa.eu/resource/authority/data-theme/HEAL')] | https://creativecommons.org/licenses/by-sa/4.0/ | [rdflib.term.URIRef('https://harrypotter.fandom.com/wiki/Hogwarts_School_of_Witchcraft_and_Wizardry')] | 2024-07-01 11:11:11 | 2024-07-23 09:09:06.583297 |\n",
      "|            2 | ['Slytherin research project']  | ['Comarative analysis of magic powers of muggle-born and blood wizards '] | ['half-blood', ' muggle-born', ' pure-blood'] | [{'name': ['author_name'], 'identifier': 'https://harrypotter.fandom.com/wiki/Draco_Malfoy'}]     | [{'hasEmail': rdflib.term.URIRef('mailto:dumbledore@hogwarts.example.com'), 'hasUID': rdflib.term.URIRef('https://www.wikidata.org/wiki/Q712548')}] | [rdflib.term.URIRef('http://publications.europa.eu/resource/authority/data-theme/HEAL')] | https://creativecommons.org/licenses/by-sa/4.0/ | [rdflib.term.URIRef('https://harrypotter.fandom.com/wiki/Hogwarts_School_of_Witchcraft_and_Wizardry')] | 2024-07-01 11:11:11 | 2024-07-23 09:09:06.583297 |\n",
      "|            3 | ['Ravenclaw research project']  | ['Linguistic analysis of spells']                                         | ['linguastics spell']                         | [{'name': ['author_name'], 'identifier': 'https://harrypotter.fandom.com/wiki/Luna_Lovegood'}]    | [{'hasEmail': rdflib.term.URIRef('mailto:dumbledore@hogwarts.example.com'), 'hasUID': rdflib.term.URIRef('https://www.wikidata.org/wiki/Q712548')}] | [rdflib.term.URIRef('http://publications.europa.eu/resource/authority/data-theme/HEAL')] | https://creativecommons.org/licenses/by-sa/4.0/ | [rdflib.term.URIRef('https://harrypotter.fandom.com/wiki/Hogwarts_School_of_Witchcraft_and_Wizardry')] | 2024-07-01 11:11:11 | 2024-07-23 09:09:06.583297 |\n",
      "|            4 | ['Hufflepuff research project'] | ['Domestics elfs reproduction rate changes in the last 100 years']        | ['domestic elf']                              | [{'name': ['author_name'], 'identifier': 'https://harrypotter.fandom.com/wiki/Dora_Williams'}]    | [{'hasEmail': rdflib.term.URIRef('mailto:dumbledore@hogwarts.example.com'), 'hasUID': rdflib.term.URIRef('https://www.wikidata.org/wiki/Q712548')}] | [rdflib.term.URIRef('http://publications.europa.eu/resource/authority/data-theme/HEAL')] | https://creativecommons.org/licenses/by-sa/4.0/ | [rdflib.term.URIRef('https://harrypotter.fandom.com/wiki/Hogwarts_School_of_Witchcraft_and_Wizardry')] | 2024-07-01 11:11:11 | 2024-07-23 09:09:06.583297 |\n",
      "+--------------+---------------------------------+---------------------------------------------------------------------------+-----------------------------------------------+---------------------------------------------------------------------------------------------------+-----------------------------------------------------------------------------------------------------------------------------------------------------+------------------------------------------------------------------------------------------+-------------------------------------------------+--------------------------------------------------------------------------------------------------------+---------------------+----------------------------+\n"
     ]
    }
   ],
   "source": [
    "print(tabulate(df, headers='keys', tablefmt='psql', showindex=False))"
   ]
  },
  {
   "cell_type": "markdown",
   "metadata": {},
   "source": [
    "In the end, serialize the graphs."
   ]
  },
  {
   "cell_type": "code",
   "execution_count": 18,
   "metadata": {},
   "outputs": [
    {
     "name": "stdout",
     "output_type": "stream",
     "text": [
      "@prefix dcat: <http://www.w3.org/ns/dcat#> .\n",
      "@prefix dcterms: <http://purl.org/dc/terms/> .\n",
      "@prefix foaf: <http://xmlns.com/foaf/0.1/> .\n",
      "@prefix v: <http://www.w3.org/2006/vcard/ns#> .\n",
      "@prefix xsd: <http://www.w3.org/2001/XMLSchema#> .\n",
      "\n",
      "<http://example.com/dataset/0> a dcat:Dataset ;\n",
      "    dcterms:creator [ a foaf:Agent ;\n",
      "            dcterms:identifier \"https://harrypotter.fandom.com/wiki/Hermione_Granger\" ;\n",
      "            foaf:name \"author_name\" ] ;\n",
      "    dcterms:description \"Impact of muggle technical inventions on word's magic presense\" ;\n",
      "    dcterms:identifier \"1\"^^xsd:string ;\n",
      "    dcterms:issued \"2024-07-01T11:11:11\"^^xsd:dateTime ;\n",
      "    dcterms:license <https://creativecommons.org/licenses/by-sa/4.0/> ;\n",
      "    dcterms:modified \"2024-07-23T09:09:06.583297\"^^xsd:dateTime ;\n",
      "    dcterms:publisher <https://harrypotter.fandom.com/wiki/Hogwarts_School_of_Witchcraft_and_Wizardry> ;\n",
      "    dcterms:title \"Gryffindor research project\" ;\n",
      "    dcat:contactPoint [ a v:Kind ;\n",
      "            v:hasEmail <mailto:dumbledore@hogwarts.example.com> ;\n",
      "            v:hasUID <https://www.wikidata.org/wiki/Q712548> ] ;\n",
      "    dcat:keyword \" muggles\",\n",
      "        \" technic\",\n",
      "        \"magic\" ;\n",
      "    dcat:theme <http://publications.europa.eu/resource/authority/data-theme/HEAL> .\n",
      "\n",
      "\n",
      "@prefix dcat: <http://www.w3.org/ns/dcat#> .\n",
      "@prefix dcterms: <http://purl.org/dc/terms/> .\n",
      "@prefix foaf: <http://xmlns.com/foaf/0.1/> .\n",
      "@prefix v: <http://www.w3.org/2006/vcard/ns#> .\n",
      "@prefix xsd: <http://www.w3.org/2001/XMLSchema#> .\n",
      "\n",
      "<http://example.com/dataset/1> a dcat:Dataset ;\n",
      "    dcterms:creator [ a foaf:Agent ;\n",
      "            dcterms:identifier \"https://harrypotter.fandom.com/wiki/Draco_Malfoy\" ;\n",
      "            foaf:name \"author_name\" ] ;\n",
      "    dcterms:description \"Comarative analysis of magic powers of muggle-born and blood wizards \" ;\n",
      "    dcterms:identifier \"2\"^^xsd:string ;\n",
      "    dcterms:issued \"2024-07-01T11:11:11\"^^xsd:dateTime ;\n",
      "    dcterms:license <https://creativecommons.org/licenses/by-sa/4.0/> ;\n",
      "    dcterms:modified \"2024-07-23T09:09:06.583297\"^^xsd:dateTime ;\n",
      "    dcterms:publisher <https://harrypotter.fandom.com/wiki/Hogwarts_School_of_Witchcraft_and_Wizardry> ;\n",
      "    dcterms:title \"Slytherin research project\" ;\n",
      "    dcat:contactPoint [ a v:Kind ;\n",
      "            v:hasEmail <mailto:dumbledore@hogwarts.example.com> ;\n",
      "            v:hasUID <https://www.wikidata.org/wiki/Q712548> ] ;\n",
      "    dcat:keyword \" muggle-born\",\n",
      "        \" pure-blood\",\n",
      "        \"half-blood\" ;\n",
      "    dcat:theme <http://publications.europa.eu/resource/authority/data-theme/HEAL> .\n",
      "\n",
      "\n",
      "@prefix dcat: <http://www.w3.org/ns/dcat#> .\n",
      "@prefix dcterms: <http://purl.org/dc/terms/> .\n",
      "@prefix foaf: <http://xmlns.com/foaf/0.1/> .\n",
      "@prefix v: <http://www.w3.org/2006/vcard/ns#> .\n",
      "@prefix xsd: <http://www.w3.org/2001/XMLSchema#> .\n",
      "\n",
      "<http://example.com/dataset/2> a dcat:Dataset ;\n",
      "    dcterms:creator [ a foaf:Agent ;\n",
      "            dcterms:identifier \"https://harrypotter.fandom.com/wiki/Luna_Lovegood\" ;\n",
      "            foaf:name \"author_name\" ] ;\n",
      "    dcterms:description \"Linguistic analysis of spells\" ;\n",
      "    dcterms:identifier \"3\"^^xsd:string ;\n",
      "    dcterms:issued \"2024-07-01T11:11:11\"^^xsd:dateTime ;\n",
      "    dcterms:license <https://creativecommons.org/licenses/by-sa/4.0/> ;\n",
      "    dcterms:modified \"2024-07-23T09:09:06.583297\"^^xsd:dateTime ;\n",
      "    dcterms:publisher <https://harrypotter.fandom.com/wiki/Hogwarts_School_of_Witchcraft_and_Wizardry> ;\n",
      "    dcterms:title \"Ravenclaw research project\" ;\n",
      "    dcat:contactPoint [ a v:Kind ;\n",
      "            v:hasEmail <mailto:dumbledore@hogwarts.example.com> ;\n",
      "            v:hasUID <https://www.wikidata.org/wiki/Q712548> ] ;\n",
      "    dcat:keyword \"linguastics spell\" ;\n",
      "    dcat:theme <http://publications.europa.eu/resource/authority/data-theme/HEAL> .\n",
      "\n",
      "\n",
      "@prefix dcat: <http://www.w3.org/ns/dcat#> .\n",
      "@prefix dcterms: <http://purl.org/dc/terms/> .\n",
      "@prefix foaf: <http://xmlns.com/foaf/0.1/> .\n",
      "@prefix v: <http://www.w3.org/2006/vcard/ns#> .\n",
      "@prefix xsd: <http://www.w3.org/2001/XMLSchema#> .\n",
      "\n",
      "<http://example.com/dataset/3> a dcat:Dataset ;\n",
      "    dcterms:creator [ a foaf:Agent ;\n",
      "            dcterms:identifier \"https://harrypotter.fandom.com/wiki/Dora_Williams\" ;\n",
      "            foaf:name \"author_name\" ] ;\n",
      "    dcterms:description \"Domestics elfs reproduction rate changes in the last 100 years\" ;\n",
      "    dcterms:identifier \"4\"^^xsd:string ;\n",
      "    dcterms:issued \"2024-07-01T11:11:11\"^^xsd:dateTime ;\n",
      "    dcterms:license <https://creativecommons.org/licenses/by-sa/4.0/> ;\n",
      "    dcterms:modified \"2024-07-23T09:09:06.583297\"^^xsd:dateTime ;\n",
      "    dcterms:publisher <https://harrypotter.fandom.com/wiki/Hogwarts_School_of_Witchcraft_and_Wizardry> ;\n",
      "    dcterms:title \"Hufflepuff research project\" ;\n",
      "    dcat:contactPoint [ a v:Kind ;\n",
      "            v:hasEmail <mailto:dumbledore@hogwarts.example.com> ;\n",
      "            v:hasUID <https://www.wikidata.org/wiki/Q712548> ] ;\n",
      "    dcat:keyword \"domestic elf\" ;\n",
      "    dcat:theme <http://publications.europa.eu/resource/authority/data-theme/HEAL> .\n",
      "\n",
      "\n"
     ]
    }
   ],
   "source": [
    "datasets = df.to_dict('records')\n",
    "dcat_datasets = [HRIDataset(**x) for x in datasets]\n",
    "for i, dataset in enumerate(dcat_datasets):\n",
    "    print(dataset.to_graph(URIRef(f\"http://example.com/dataset/{i}\")).serialize())"
   ]
  },
  {
   "cell_type": "code",
   "execution_count": 19,
   "metadata": {},
   "outputs": [
    {
     "name": "stdout",
     "output_type": "stream",
     "text": [
      "{'contact_point': [{'hasEmail': rdflib.term.URIRef('mailto:dumbledore@hogwarts.example.com'),\n",
      "                    'hasUID': rdflib.term.URIRef('https://www.wikidata.org/wiki/Q712548')}],\n",
      " 'creator': [{'identifier': 'https://harrypotter.fandom.com/wiki/Hermione_Granger',\n",
      "              'name': ['author_name']}],\n",
      " 'description': [\"Impact of muggle technical inventions on word's magic \"\n",
      "                 'presense'],\n",
      " 'identifier': '1',\n",
      " 'issued': Timestamp('2024-07-01 11:11:11'),\n",
      " 'keyword': ['magic', ' technic', ' muggles'],\n",
      " 'license': rdflib.term.URIRef('https://creativecommons.org/licenses/by-sa/4.0/'),\n",
      " 'modified': Timestamp('2024-07-23 09:09:06.583297'),\n",
      " 'publisher': [rdflib.term.URIRef('https://harrypotter.fandom.com/wiki/Hogwarts_School_of_Witchcraft_and_Wizardry')],\n",
      " 'theme': [rdflib.term.URIRef('http://publications.europa.eu/resource/authority/data-theme/HEAL')],\n",
      " 'title': ['Gryffindor research project']}\n"
     ]
    }
   ],
   "source": [
    "datasets = df.to_dict('records')\n",
    "ds = datasets[0]\n",
    "pprint(ds)\n"
   ]
  }
 ],
 "metadata": {
  "kernelspec": {
   "display_name": "docs",
   "language": "python",
   "name": "python3"
  },
  "language_info": {
   "codemirror_mode": {
    "name": "ipython",
    "version": 3
   },
   "file_extension": ".py",
   "mimetype": "text/x-python",
   "name": "python",
   "nbconvert_exporter": "python",
   "pygments_lexer": "ipython3",
   "version": "3.11.6"
  }
 },
 "nbformat": 4,
 "nbformat_minor": 2
}
