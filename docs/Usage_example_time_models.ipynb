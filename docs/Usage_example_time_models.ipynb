{
 "cells": [
  {
   "cell_type": "markdown",
   "id": "89fa9ffd-6c22-4da0-bedc-1d55a5312619",
   "metadata": {},
   "source": [
    "## Usage example\n",
    "\n",
    "Let's import a model class and get an overview of fields and their definitions.\n",
    "One way to get all the fields definition is via pydantic `BaseModel.model_fields`:"
   ]
  },
  {
   "cell_type": "code",
   "execution_count": 1,
   "id": "c37c6bec-940d-42d2-9cc6-d04c67df4594",
   "metadata": {
    "scrolled": true
   },
   "outputs": [
    {
     "name": "stdout",
     "output_type": "stream",
     "text": [
      "{'day': FieldInfo(annotation=str, required=False, description='Day position in a calendar-clock system. The range of this property is not specified, so can be replaced by any specific representation of a calendar day from any calendar.', json_schema_extra={'rdf_term': rdflib.term.URIRef('http://www.w3.org/2006/time#day'), 'rdf_type': rdflib.term.URIRef('http://www.w3.org/2001/XMLSchema#gDay')}, metadata=[MaxLen(max_length=1)]),\n",
      " 'dayOfWeek': FieldInfo(annotation=DayOfWeek, required=False, description='The day of week, whose value is a member of the class time:DayOfWeek', json_schema_extra={'rdf_term': rdflib.term.URIRef('http://www.w3.org/2006/time#dayOfWeek'), 'rdf_type': 'uri'}),\n",
      " 'dayOfYear': FieldInfo(annotation=int, required=False, description='The number of the day within the year', json_schema_extra={'rdf_term': rdflib.term.URIRef('http://www.w3.org/2006/time#dayOfYear'), 'rdf_type': rdflib.term.URIRef('http://www.w3.org/2001/XMLSchema#negativeInteger')}, metadata=[Ge(ge=1), MaxLen(max_length=1)]),\n",
      " 'hasTRS': FieldInfo(annotation=Url, required=False, description='The temporal reference system used by a temporal position or extent description', json_schema_extra={'rdf_term': rdflib.term.URIRef('http://www.w3.org/2006/time#hasTRS'), 'rdf_type': 'uri'}, metadata=[UrlConstraints(max_length=None, allowed_schemes=['http', 'https'], host_required=None, default_host=None, default_port=None, default_path=None)]),\n",
      " 'hour': FieldInfo(annotation=int, required=False, description='Hour position in a calendar-clock system', json_schema_extra={'rdf_term': rdflib.term.URIRef('http://www.w3.org/2006/time#hour'), 'rdf_type': rdflib.term.URIRef('http://www.w3.org/2001/XMLSchema#negativeInteger')}, metadata=[Ge(ge=0), Le(le=23), MaxLen(max_length=1)]),\n",
      " 'minute': FieldInfo(annotation=int, required=False, description='Minute position in a calendar-clock system', json_schema_extra={'rdf_term': rdflib.term.URIRef('http://www.w3.org/2006/time#minute'), 'rdf_type': rdflib.term.URIRef('http://www.w3.org/2001/XMLSchema#negativeInteger')}, metadata=[Ge(ge=0), Le(le=59), MaxLen(max_length=1)]),\n",
      " 'month': FieldInfo(annotation=str, required=False, description='Month position in a calendar-clock system. The range of this property is not specified, so can be replaced by any specific representation of a calendar month from any calendar.', json_schema_extra={'rdf_term': rdflib.term.URIRef('http://www.w3.org/2006/time#month'), 'rdf_type': rdflib.term.URIRef('http://www.w3.org/2001/XMLSchema#gMonth')}, metadata=[MaxLen(max_length=1)]),\n",
      " 'monthOfYear': FieldInfo(annotation=MonthOfYear, required=False, description='The month of the year, whose value is a member of the class time:MonthOfYear', json_schema_extra={'rdf_term': rdflib.term.URIRef('http://www.w3.org/2006/time#monthOfYear'), 'rdf_type': 'uri'}, metadata=[MaxLen(max_length=1)]),\n",
      " 'second': FieldInfo(annotation=int, required=False, description='Second position in a calendar-clock system.', json_schema_extra={'rdf_term': rdflib.term.URIRef('http://www.w3.org/2006/time#second'), 'rdf_type': rdflib.term.URIRef('http://www.w3.org/2001/XMLSchema#decimal')}, metadata=[Ge(ge=0), Le(le=59), MaxLen(max_length=1)]),\n",
      " 'timeZone': FieldInfo(annotation=Url, required=False, description='The time zone for clock elements in the temporal position', json_schema_extra={'rdf_term': rdflib.term.URIRef('http://www.w3.org/2006/time#TimeZone'), 'rdf_type': 'uri'}, metadata=[UrlConstraints(max_length=None, allowed_schemes=['http', 'https'], host_required=None, default_host=None, default_port=None, default_path=None)]),\n",
      " 'unitType': FieldInfo(annotation=Url, required=True, description='The temporal unit which provides the precision of a date-time value or scale of a temporal extent', json_schema_extra={'rdf_term': rdflib.term.URIRef('http://www.w3.org/2006/time#TemporalUnit'), 'rdf_type': 'uri'}, metadata=[UrlConstraints(max_length=None, allowed_schemes=['http', 'https'], host_required=None, default_host=None, default_port=None, default_path=None)]),\n",
      " 'week': FieldInfo(annotation=int, required=False, description='Week number within the year.', json_schema_extra={'rdf_term': rdflib.term.URIRef('http://www.w3.org/2006/time#week'), 'rdf_type': rdflib.term.URIRef('http://www.w3.org/2001/XMLSchema#negativeInteger')}, metadata=[Ge(ge=1), MaxLen(max_length=1)]),\n",
      " 'year': FieldInfo(annotation=str, required=False, description='Year position in a calendar-clock system. The range of this property is not specified, so can be replaced by any specific representation of a calendar year from any calendar.', json_schema_extra={'rdf_term': rdflib.term.URIRef('http://www.w3.org/2006/time#year'), 'rdf_type': rdflib.term.URIRef('http://www.w3.org/2001/XMLSchema#gYear')}, metadata=[MaxLen(max_length=1)])}\n"
     ]
    }
   ],
   "source": [
    "\n",
    "from dcat.dcat_time_models import GeneralDateTimeDescription\n",
    "import pprint\n",
    "\n",
    "pprint.pprint(GeneralDateTimeDescription.model_fields)\n"
   ]
  },
  {
   "cell_type": "markdown",
   "id": "ec210b8f-b63d-4087-ad1c-acbc6cba6d81",
   "metadata": {},
   "source": [
    "#### Mandatory fields are:"
   ]
  },
  {
   "cell_type": "code",
   "execution_count": 2,
   "id": "f0939392-2f1e-42f2-9fef-5eea1eca526c",
   "metadata": {},
   "outputs": [
    {
     "name": "stdout",
     "output_type": "stream",
     "text": [
      "['unitType']\n"
     ]
    }
   ],
   "source": [
    "model_fields = GeneralDateTimeDescription.annotate_model()\n",
    "pprint.pprint(model_fields.mandatory_fields())"
   ]
  },
  {
   "cell_type": "markdown",
   "id": "0a40001f-c713-4aaf-ad72-c178f8ad0312",
   "metadata": {},
   "source": [
    "#### Let's get description and types separately"
   ]
  },
  {
   "cell_type": "code",
   "execution_count": 3,
   "id": "f8180c24-5ba5-4326-85ab-7351cf6456ea",
   "metadata": {},
   "outputs": [
    {
     "name": "stdout",
     "output_type": "stream",
     "text": [
      "{'day': 'Day position in a calendar-clock system. The range of this property '\n",
      "        'is not specified, so can be replaced by any specific representation '\n",
      "        'of a calendar day from any calendar.',\n",
      " 'dayOfWeek': 'The day of week, whose value is a member of the class '\n",
      "              'time:DayOfWeek',\n",
      " 'dayOfYear': 'The number of the day within the year',\n",
      " 'hasTRS': 'The temporal reference system used by a temporal position or '\n",
      "           'extent description',\n",
      " 'hour': 'Hour position in a calendar-clock system',\n",
      " 'minute': 'Minute position in a calendar-clock system',\n",
      " 'month': 'Month position in a calendar-clock system. The range of this '\n",
      "          'property is not specified, so can be replaced by any specific '\n",
      "          'representation of a calendar month from any calendar.',\n",
      " 'monthOfYear': 'The month of the year, whose value is a member of the class '\n",
      "                'time:MonthOfYear',\n",
      " 'second': 'Second position in a calendar-clock system.',\n",
      " 'timeZone': 'The time zone for clock elements in the temporal position',\n",
      " 'unitType': 'The temporal unit which provides the precision of a date-time '\n",
      "             'value or scale of a temporal extent',\n",
      " 'week': 'Week number within the year.',\n",
      " 'year': 'Year position in a calendar-clock system. The range of this property '\n",
      "         'is not specified, so can be replaced by any specific representation '\n",
      "         'of a calendar year from any calendar.'}\n"
     ]
    }
   ],
   "source": [
    "pprint.pprint(model_fields.fields_description())"
   ]
  },
  {
   "cell_type": "code",
   "execution_count": 4,
   "id": "59e278a8-6bea-437f-93a0-dea685e44b2a",
   "metadata": {},
   "outputs": [
    {
     "name": "stdout",
     "output_type": "stream",
     "text": [
      "{'day': rdflib.term.URIRef('http://www.w3.org/2006/time#day'),\n",
      " 'dayOfWeek': rdflib.term.URIRef('http://www.w3.org/2006/time#dayOfWeek'),\n",
      " 'dayOfYear': rdflib.term.URIRef('http://www.w3.org/2006/time#dayOfYear'),\n",
      " 'hasTRS': rdflib.term.URIRef('http://www.w3.org/2006/time#hasTRS'),\n",
      " 'hour': rdflib.term.URIRef('http://www.w3.org/2006/time#hour'),\n",
      " 'minute': rdflib.term.URIRef('http://www.w3.org/2006/time#minute'),\n",
      " 'month': rdflib.term.URIRef('http://www.w3.org/2006/time#month'),\n",
      " 'monthOfYear': rdflib.term.URIRef('http://www.w3.org/2006/time#monthOfYear'),\n",
      " 'second': rdflib.term.URIRef('http://www.w3.org/2006/time#second'),\n",
      " 'timeZone': rdflib.term.URIRef('http://www.w3.org/2006/time#TimeZone'),\n",
      " 'unitType': rdflib.term.URIRef('http://www.w3.org/2006/time#TemporalUnit'),\n",
      " 'week': rdflib.term.URIRef('http://www.w3.org/2006/time#week'),\n",
      " 'year': rdflib.term.URIRef('http://www.w3.org/2006/time#year')}\n"
     ]
    }
   ],
   "source": [
    "pprint.pprint(model_fields.get_rdf_correspondence())"
   ]
  },
  {
   "cell_type": "code",
   "execution_count": 5,
   "id": "fa389538-eefb-46a8-a5d0-c417201ed6df",
   "metadata": {},
   "outputs": [
    {
     "name": "stdout",
     "output_type": "stream",
     "text": [
      "{'day': {'RDF type': rdflib.term.URIRef('http://www.w3.org/2001/XMLSchema#gDay'),\n",
      "         'datatype': 'str'},\n",
      " 'dayOfWeek': {'RDF type': 'uri', 'datatype': 'DayOfWeek'},\n",
      " 'dayOfYear': {'RDF type': rdflib.term.URIRef('http://www.w3.org/2001/XMLSchema#negativeInteger'),\n",
      "               'datatype': 'int'},\n",
      " 'hasTRS': {'RDF type': 'uri', 'datatype': 'Url'},\n",
      " 'hour': {'RDF type': rdflib.term.URIRef('http://www.w3.org/2001/XMLSchema#negativeInteger'),\n",
      "          'datatype': 'int'},\n",
      " 'minute': {'RDF type': rdflib.term.URIRef('http://www.w3.org/2001/XMLSchema#negativeInteger'),\n",
      "            'datatype': 'int'},\n",
      " 'month': {'RDF type': rdflib.term.URIRef('http://www.w3.org/2001/XMLSchema#gMonth'),\n",
      "           'datatype': 'str'},\n",
      " 'monthOfYear': {'RDF type': 'uri', 'datatype': 'MonthOfYear'},\n",
      " 'second': {'RDF type': rdflib.term.URIRef('http://www.w3.org/2001/XMLSchema#decimal'),\n",
      "            'datatype': 'int'},\n",
      " 'timeZone': {'RDF type': 'uri', 'datatype': 'Url'},\n",
      " 'unitType': {'RDF type': 'uri', 'datatype': 'Url'},\n",
      " 'week': {'RDF type': rdflib.term.URIRef('http://www.w3.org/2001/XMLSchema#negativeInteger'),\n",
      "          'datatype': 'int'},\n",
      " 'year': {'RDF type': rdflib.term.URIRef('http://www.w3.org/2001/XMLSchema#gYear'),\n",
      "          'datatype': 'str'}}\n"
     ]
    }
   ],
   "source": [
    "pprint.pprint(model_fields.get_fields_types())"
   ]
  },
  {
   "cell_type": "markdown",
   "id": "2e37d7ee-ee17-42b7-ab23-6ca415f3a909",
   "metadata": {},
   "source": [
    "#### Defaults and validation are provided"
   ]
  },
  {
   "cell_type": "code",
   "execution_count": 6,
   "id": "9237de43-66d4-4b29-8bd5-ae428e03a316",
   "metadata": {},
   "outputs": [
    {
     "name": "stdout",
     "output_type": "stream",
     "text": [
      "{'hasTRS': 'http://www.opengis.net/def/uom/ISO-8601/0/Gregorian'}\n"
     ]
    }
   ],
   "source": [
    "from dcat.dcat_time_models import DateTimeDescription\n",
    "\n",
    "child_model_fields = DateTimeDescription.annotate_model()\n",
    "pprint.pprint(child_model_fields.fields_defaults())"
   ]
  },
  {
   "cell_type": "markdown",
   "id": "0821fc37-e863-44b2-a051-e4543f458af8",
   "metadata": {},
   "source": [
    "#### An attemtp to replace it with incorrect data will throw an error, e.g:"
   ]
  },
  {
   "cell_type": "code",
   "execution_count": 7,
   "id": "dec3173e-d2eb-4ffd-8165-608c46e7fe14",
   "metadata": {},
   "outputs": [
    {
     "ename": "ValidationError",
     "evalue": "1 validation error for http://www.w3.org/2006/time#GeneralDateTimeDescription\nhasTRS\n  Value error, hasTRS should be Gregorian (http://www.opengis.net/def/uom/ISO-8601/0/Gregorian), otherwise use GeneralDateTimeDescription [type=value_error, input_value=rdflib.term.URIRef('http://example.com'), input_type=URIRef]\n    For further information visit https://errors.pydantic.dev/2.5/v/value_error",
     "output_type": "error",
     "traceback": [
      "\u001b[0;31m---------------------------------------------------------------------------\u001b[0m",
      "\u001b[0;31mValidationError\u001b[0m                           Traceback (most recent call last)",
      "Cell \u001b[0;32mIn[7], line 2\u001b[0m\n\u001b[1;32m      1\u001b[0m \u001b[38;5;28;01mfrom\u001b[39;00m \u001b[38;5;21;01mrdflib\u001b[39;00m \u001b[38;5;28;01mimport\u001b[39;00m TIME, URIRef\n\u001b[0;32m----> 2\u001b[0m time_obj \u001b[38;5;241m=\u001b[39m \u001b[43mDateTimeDescription\u001b[49m\u001b[43m(\u001b[49m\u001b[43munitType\u001b[49m\u001b[38;5;241;43m=\u001b[39;49m\u001b[43mTIME\u001b[49m\u001b[38;5;241;43m.\u001b[39;49m\u001b[43mgeneralYear\u001b[49m\u001b[43m,\u001b[49m\u001b[43m \u001b[49m\u001b[43mhasTRS\u001b[49m\u001b[38;5;241;43m=\u001b[39;49m\u001b[43mURIRef\u001b[49m\u001b[43m(\u001b[49m\u001b[38;5;124;43m\"\u001b[39;49m\u001b[38;5;124;43mhttp://example.com\u001b[39;49m\u001b[38;5;124;43m\"\u001b[39;49m\u001b[43m)\u001b[49m\u001b[43m)\u001b[49m\n",
      "File \u001b[0;32m~/Library/Caches/pypoetry/virtualenvs/hrimodeling-e-m1GlUD-py3.11/lib/python3.11/site-packages/pydantic/main.py:164\u001b[0m, in \u001b[0;36mBaseModel.__init__\u001b[0;34m(__pydantic_self__, **data)\u001b[0m\n\u001b[1;32m    162\u001b[0m \u001b[38;5;66;03m# `__tracebackhide__` tells pytest and some other tools to omit this function from tracebacks\u001b[39;00m\n\u001b[1;32m    163\u001b[0m __tracebackhide__ \u001b[38;5;241m=\u001b[39m \u001b[38;5;28;01mTrue\u001b[39;00m\n\u001b[0;32m--> 164\u001b[0m \u001b[43m__pydantic_self__\u001b[49m\u001b[38;5;241;43m.\u001b[39;49m\u001b[43m__pydantic_validator__\u001b[49m\u001b[38;5;241;43m.\u001b[39;49m\u001b[43mvalidate_python\u001b[49m\u001b[43m(\u001b[49m\u001b[43mdata\u001b[49m\u001b[43m,\u001b[49m\u001b[43m \u001b[49m\u001b[43mself_instance\u001b[49m\u001b[38;5;241;43m=\u001b[39;49m\u001b[43m__pydantic_self__\u001b[49m\u001b[43m)\u001b[49m\n",
      "\u001b[0;31mValidationError\u001b[0m: 1 validation error for http://www.w3.org/2006/time#GeneralDateTimeDescription\nhasTRS\n  Value error, hasTRS should be Gregorian (http://www.opengis.net/def/uom/ISO-8601/0/Gregorian), otherwise use GeneralDateTimeDescription [type=value_error, input_value=rdflib.term.URIRef('http://example.com'), input_type=URIRef]\n    For further information visit https://errors.pydantic.dev/2.5/v/value_error"
     ]
    }
   ],
   "source": [
    "from rdflib import TIME, URIRef\n",
    "time_obj = DateTimeDescription(unitType=TIME.generalYear, hasTRS=URIRef(\"http://example.com\"))"
   ]
  },
  {
   "cell_type": "markdown",
   "id": "7eafcb65-9e12-4eed-aac8-66c2ef52f364",
   "metadata": {},
   "source": [
    "#### Let us cereate an example dataset with with temporal expressed as GeneralDateTimeDescription"
   ]
  },
  {
   "cell_type": "code",
   "execution_count": 8,
   "id": "ced7b91a-9f2c-4655-9913-cb6760eb5b05",
   "metadata": {},
   "outputs": [
    {
     "name": "stdout",
     "output_type": "stream",
     "text": [
      "[]\n"
     ]
    }
   ],
   "source": [
    "from dcat.dcat_time_models import Temporal, TimeInstant\n",
    "\n",
    "temporal_fields = Temporal.annotate_model()\n",
    "pprint.pprint(temporal_fields.mandatory_fields())"
   ]
  },
  {
   "cell_type": "code",
   "execution_count": 9,
   "id": "445dc7f7-f11b-4bad-aaba-257b4cf4816f",
   "metadata": {},
   "outputs": [
    {
     "name": "stdout",
     "output_type": "stream",
     "text": [
      "{'beginning': {'RDF type': 'rdfs_literal', 'datatype': 'TimeInstant'},\n",
      " 'end': {'RDF type': 'rdfs_literal', 'datatype': 'TimeInstant'},\n",
      " 'end_date': {'RDF type': 'literal', 'datatype': 'str'},\n",
      " 'start_date': {'RDF type': 'literal', 'datatype': 'str'}}\n"
     ]
    }
   ],
   "source": [
    "pprint.pprint(temporal_fields.get_fields_types())"
   ]
  },
  {
   "cell_type": "code",
   "execution_count": 10,
   "id": "19b13034-bfd5-4a73-8bd7-c6b3cb8254c3",
   "metadata": {},
   "outputs": [
    {
     "name": "stdout",
     "output_type": "stream",
     "text": [
      "{'inDateTime': {'RDF type': rdflib.term.URIRef('http://www.w3.org/2006/time#GeneralDateTimeDescription'),\n",
      "                'datatype': 'GeneralDateTimeDescription'},\n",
      " 'inTimePosition': {'RDF type': 'No RDF type specified for the field',\n",
      "                    'datatype': 'TimePosition'},\n",
      " 'inXSDDate': {'RDF type': 'literal', 'datatype': 'date'},\n",
      " 'inXSDDateTime': {'RDF type': 'literal', 'datatype': 'NaiveDatetime'},\n",
      " 'inXSDDateTimeStamp': {'RDF type': 'literal', 'datatype': 'AwareDatetime'},\n",
      " 'inXSDgYear': {'RDF type': 'literal', 'datatype': 'str'},\n",
      " 'inXSDgYearMonth': {'RDF type': 'literal', 'datatype': 'str'}}\n"
     ]
    }
   ],
   "source": [
    "pprint.pprint(TimeInstant.annotate_model().get_fields_types())"
   ]
  },
  {
   "cell_type": "code",
   "execution_count": 11,
   "id": "9bc17336-330d-493e-837c-8a26d4f167c0",
   "metadata": {},
   "outputs": [
    {
     "name": "stdout",
     "output_type": "stream",
     "text": [
      "@prefix dcat: <http://www.w3.org/ns/dcat#> .\n",
      "@prefix dcterms: <http://purl.org/dc/terms/> .\n",
      "@prefix time: <http://www.w3.org/2006/time#> .\n",
      "\n",
      "<http://example_subject.com> a dcat:Dataset ;\n",
      "    dcterms:temporal [ a dcterms:PeriodOfTime ;\n",
      "            time:Instant [ a time:Instant ;\n",
      "                    time:inDateTime [ a time:GeneralDateTimeDescription ;\n",
      "                            time:TemporalUnit time:generalDay ;\n",
      "                            time:dayOfWeek time:Monday ] ] ] ;\n",
      "    dcterms:title \"Example dataset\" .\n",
      "\n",
      "\n"
     ]
    }
   ],
   "source": [
    "from rdflib import Graph, RDF, DCTERMS, DCAT, Literal\n",
    "from dcat.dcat_time_models import DayOfWeek\n",
    "\n",
    "general_time_descr_obj = GeneralDateTimeDescription(dayOfWeek=DayOfWeek.Monday, unitType=TIME.generalDay)\n",
    "t_instant = TimeInstant(inDateTime=general_time_descr_obj)\n",
    "temporal = Temporal(end=t_instant)\n",
    "graph = Graph()\n",
    "graph.add((URIRef(\"http://example_subject.com\"), RDF.type, DCAT.Dataset))\n",
    "graph.add((URIRef(\"http://example_subject.com\"), DCTERMS.title, Literal(\"Example dataset\")))\n",
    "temporal.to_graph_node(graph, URIRef(\"http://example_subject.com\"), DCTERMS.temporal, node_type=DCTERMS.PeriodOfTime)\n",
    "print(graph.serialize())"
   ]
  },
  {
   "cell_type": "markdown",
   "id": "1aa9240f-a206-44c4-ae3d-5ef943620dec",
   "metadata": {},
   "source": [
    "#### In case you need a json schema"
   ]
  },
  {
   "cell_type": "code",
   "execution_count": 12,
   "id": "1aae07f2-ed15-44d6-968d-5aa6b9765645",
   "metadata": {},
   "outputs": [
    {
     "name": "stdout",
     "output_type": "stream",
     "text": [
      "{'$defs': {'DayOfWeek': {'enum': ['http://www.w3.org/2006/time#Monday',\n",
      "                                  'http://www.w3.org/2006/time#Tuesday',\n",
      "                                  'http://www.w3.org/2006/time#Wednesday',\n",
      "                                  'http://www.w3.org/2006/time#Thursday',\n",
      "                                  'http://www.w3.org/2006/time#Friday',\n",
      "                                  'http://www.w3.org/2006/time#Saturday',\n",
      "                                  'http://www.w3.org/2006/time#Sunday'],\n",
      "                         'title': 'DayOfWeek',\n",
      "                         'type': 'string'},\n",
      "           'MonthOfYear': {'enum': ['http://www.w3.org/ns/time/gregorian#January',\n",
      "                                    'http://www.w3.org/ns/time/gregorian#February',\n",
      "                                    'http://www.w3.org/ns/time/gregorian#March',\n",
      "                                    'http://www.w3.org/ns/time/gregorian#April',\n",
      "                                    'http://www.w3.org/ns/time/gregorian#May',\n",
      "                                    'http://www.w3.org/ns/time/gregorian#June',\n",
      "                                    'http://www.w3.org/ns/time/gregorian#July',\n",
      "                                    'http://www.w3.org/ns/time/gregorian#August',\n",
      "                                    'http://www.w3.org/ns/time/gregorian#September'],\n",
      "                           'title': 'MonthOfYear',\n",
      "                           'type': 'string'}},\n",
      " 'additionalProperties': False,\n",
      " 'properties': {'day': {'default': None,\n",
      "                        'description': 'Day position in a calendar-clock '\n",
      "                                       'system. The range of this property is '\n",
      "                                       'not specified, so can be replaced by '\n",
      "                                       'any specific representation of a '\n",
      "                                       'calendar day from any calendar.',\n",
      "                        'maxLength': 1,\n",
      "                        'rdf_term': 'http://www.w3.org/2006/time#day',\n",
      "                        'rdf_type': 'http://www.w3.org/2001/XMLSchema#gDay',\n",
      "                        'title': 'Day',\n",
      "                        'type': 'string'},\n",
      "                'dayOfWeek': {'allOf': [{'$ref': '#/$defs/DayOfWeek'}],\n",
      "                              'default': None,\n",
      "                              'description': 'The day of week, whose value is '\n",
      "                                             'a member of the class '\n",
      "                                             'time:DayOfWeek',\n",
      "                              'rdf_term': 'http://www.w3.org/2006/time#dayOfWeek',\n",
      "                              'rdf_type': 'uri'},\n",
      "                'dayOfYear': {'default': None,\n",
      "                              'description': 'The number of the day within the '\n",
      "                                             'year',\n",
      "                              'maxLength': 1,\n",
      "                              'minimum': 1,\n",
      "                              'rdf_term': 'http://www.w3.org/2006/time#dayOfYear',\n",
      "                              'rdf_type': 'http://www.w3.org/2001/XMLSchema#negativeInteger',\n",
      "                              'title': 'Dayofyear',\n",
      "                              'type': 'integer'},\n",
      "                'hasTRS': {'default': None,\n",
      "                           'description': 'The temporal reference system used '\n",
      "                                          'by a temporal position or extent '\n",
      "                                          'description',\n",
      "                           'format': 'uri',\n",
      "                           'minLength': 1,\n",
      "                           'rdf_term': 'http://www.w3.org/2006/time#hasTRS',\n",
      "                           'rdf_type': 'uri',\n",
      "                           'title': 'Hastrs',\n",
      "                           'type': 'string'},\n",
      "                'hour': {'default': None,\n",
      "                         'description': 'Hour position in a calendar-clock '\n",
      "                                        'system',\n",
      "                         'maxLength': 1,\n",
      "                         'maximum': 23,\n",
      "                         'minimum': 0,\n",
      "                         'rdf_term': 'http://www.w3.org/2006/time#hour',\n",
      "                         'rdf_type': 'http://www.w3.org/2001/XMLSchema#negativeInteger',\n",
      "                         'title': 'Hour',\n",
      "                         'type': 'integer'},\n",
      "                'minute': {'default': None,\n",
      "                           'description': 'Minute position in a calendar-clock '\n",
      "                                          'system',\n",
      "                           'maxLength': 1,\n",
      "                           'maximum': 59,\n",
      "                           'minimum': 0,\n",
      "                           'rdf_term': 'http://www.w3.org/2006/time#minute',\n",
      "                           'rdf_type': 'http://www.w3.org/2001/XMLSchema#negativeInteger',\n",
      "                           'title': 'Minute',\n",
      "                           'type': 'integer'},\n",
      "                'month': {'default': None,\n",
      "                          'description': 'Month position in a calendar-clock '\n",
      "                                         'system. The range of this property '\n",
      "                                         'is not specified, so can be replaced '\n",
      "                                         'by any specific representation of a '\n",
      "                                         'calendar month from any calendar.',\n",
      "                          'maxLength': 1,\n",
      "                          'rdf_term': 'http://www.w3.org/2006/time#month',\n",
      "                          'rdf_type': 'http://www.w3.org/2001/XMLSchema#gMonth',\n",
      "                          'title': 'Month',\n",
      "                          'type': 'string'},\n",
      "                'monthOfYear': {'allOf': [{'$ref': '#/$defs/MonthOfYear'}],\n",
      "                                'default': None,\n",
      "                                'description': 'The month of the year, whose '\n",
      "                                               'value is a member of the class '\n",
      "                                               'time:MonthOfYear',\n",
      "                                'maxLength': 1,\n",
      "                                'rdf_term': 'http://www.w3.org/2006/time#monthOfYear',\n",
      "                                'rdf_type': 'uri'},\n",
      "                'second': {'default': None,\n",
      "                           'description': 'Second position in a calendar-clock '\n",
      "                                          'system.',\n",
      "                           'maxLength': 1,\n",
      "                           'maximum': 59,\n",
      "                           'minimum': 0,\n",
      "                           'rdf_term': 'http://www.w3.org/2006/time#second',\n",
      "                           'rdf_type': 'http://www.w3.org/2001/XMLSchema#decimal',\n",
      "                           'title': 'Second',\n",
      "                           'type': 'integer'},\n",
      "                'timeZone': {'default': None,\n",
      "                             'description': 'The time zone for clock elements '\n",
      "                                            'in the temporal position',\n",
      "                             'format': 'uri',\n",
      "                             'minLength': 1,\n",
      "                             'rdf_term': 'http://www.w3.org/2006/time#TimeZone',\n",
      "                             'rdf_type': 'uri',\n",
      "                             'title': 'Timezone',\n",
      "                             'type': 'string'},\n",
      "                'unitType': {'description': 'The temporal unit which provides '\n",
      "                                            'the precision of a date-time '\n",
      "                                            'value or scale of a temporal '\n",
      "                                            'extent',\n",
      "                             'format': 'uri',\n",
      "                             'minLength': 1,\n",
      "                             'rdf_term': 'http://www.w3.org/2006/time#TemporalUnit',\n",
      "                             'rdf_type': 'uri',\n",
      "                             'title': 'Unittype',\n",
      "                             'type': 'string'},\n",
      "                'week': {'default': None,\n",
      "                         'description': 'Week number within the year.',\n",
      "                         'maxLength': 1,\n",
      "                         'minimum': 1,\n",
      "                         'rdf_term': 'http://www.w3.org/2006/time#week',\n",
      "                         'rdf_type': 'http://www.w3.org/2001/XMLSchema#negativeInteger',\n",
      "                         'title': 'Week',\n",
      "                         'type': 'integer'},\n",
      "                'year': {'default': None,\n",
      "                         'description': 'Year position in a calendar-clock '\n",
      "                                        'system. The range of this property is '\n",
      "                                        'not specified, so can be replaced by '\n",
      "                                        'any specific representation of a '\n",
      "                                        'calendar year from any calendar.',\n",
      "                         'maxLength': 1,\n",
      "                         'rdf_term': 'http://www.w3.org/2006/time#year',\n",
      "                         'rdf_type': 'http://www.w3.org/2001/XMLSchema#gYear',\n",
      "                         'title': 'Year',\n",
      "                         'type': 'string'}},\n",
      " 'required': ['unitType'],\n",
      " 'title': rdflib.term.URIRef('http://www.w3.org/2006/time#GeneralDateTimeDescription'),\n",
      " 'type': 'object'}\n"
     ]
    }
   ],
   "source": [
    "pprint.pprint(GeneralDateTimeDescription.model_json_schema())"
   ]
  },
  {
   "cell_type": "code",
   "execution_count": null,
   "id": "8b3921da-bf4b-4107-b603-bb1877241bfc",
   "metadata": {},
   "outputs": [],
   "source": []
  }
 ],
 "metadata": {
  "kernelspec": {
   "display_name": "Python 3 (ipykernel)",
   "language": "python",
   "name": "python3"
  },
  "language_info": {
   "codemirror_mode": {
    "name": "ipython",
    "version": 3
   },
   "file_extension": ".py",
   "mimetype": "text/x-python",
   "name": "python",
   "nbconvert_exporter": "python",
   "pygments_lexer": "ipython3",
   "version": "3.11.3"
  }
 },
 "nbformat": 4,
 "nbformat_minor": 5
}
